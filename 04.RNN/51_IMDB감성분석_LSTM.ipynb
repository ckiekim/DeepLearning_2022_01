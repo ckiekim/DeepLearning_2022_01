{
  "nbformat": 4,
  "nbformat_minor": 0,
  "metadata": {
    "colab": {
      "name": "51.IMDB감성분석-LSTM.ipynb",
      "provenance": [],
      "collapsed_sections": []
    },
    "kernelspec": {
      "name": "python3",
      "display_name": "Python 3"
    },
    "language_info": {
      "name": "python"
    },
    "accelerator": "GPU"
  },
  "cells": [
    {
      "cell_type": "markdown",
      "source": [
        "# IMDB 영화 리뷰 감성 분석 - LSTM"
      ],
      "metadata": {
        "id": "Qqcg0yeU9qNf"
      }
    },
    {
      "cell_type": "code",
      "execution_count": 1,
      "metadata": {
        "id": "PaW-zwDq9f5u"
      },
      "outputs": [],
      "source": [
        "import numpy as np\n",
        "import matplotlib.pyplot as plt\n",
        "from tensorflow.keras.datasets import imdb\n",
        "import warnings\n",
        "warnings.filterwarnings('ignore')"
      ]
    },
    {
      "cell_type": "code",
      "source": [
        "(X_train, y_train), (X_test, y_test) = imdb.load_data()\n",
        "X_train.shape, X_test.shape, y_train.shape"
      ],
      "metadata": {
        "colab": {
          "base_uri": "https://localhost:8080/"
        },
        "id": "clA7T6p3-GpG",
        "outputId": "f38b2247-3502-4dcc-9e04-f8b02a14916b"
      },
      "execution_count": 2,
      "outputs": [
        {
          "output_type": "stream",
          "name": "stdout",
          "text": [
            "Downloading data from https://storage.googleapis.com/tensorflow/tf-keras-datasets/imdb.npz\n",
            "17465344/17464789 [==============================] - 0s 0us/step\n",
            "17473536/17464789 [==============================] - 0s 0us/step\n"
          ]
        },
        {
          "output_type": "execute_result",
          "data": {
            "text/plain": [
              "((25000,), (25000,), (25000,))"
            ]
          },
          "metadata": {},
          "execution_count": 2
        }
      ]
    },
    {
      "cell_type": "code",
      "source": [
        "print('등장한 단어수', len(imdb.get_word_index()))\n",
        "print('리뷰 최대 길이', max(len(s) for s in X_train))\n",
        "print('리뷰 평균 길이', sum(map(len, X_train)) / len(X_train))"
      ],
      "metadata": {
        "colab": {
          "base_uri": "https://localhost:8080/"
        },
        "id": "iSlXLQpw-ksV",
        "outputId": "ef8eb64c-2fb5-45b0-a0c4-7b35c4356cb0"
      },
      "execution_count": 3,
      "outputs": [
        {
          "output_type": "stream",
          "name": "stdout",
          "text": [
            "Downloading data from https://storage.googleapis.com/tensorflow/tf-keras-datasets/imdb_word_index.json\n",
            "1646592/1641221 [==============================] - 0s 0us/step\n",
            "1654784/1641221 [==============================] - 0s 0us/step\n",
            "등장한 단어수 88584\n",
            "리뷰 최대 길이 2494\n",
            "리뷰 평균 길이 238.71364\n"
          ]
        }
      ]
    },
    {
      "cell_type": "markdown",
      "source": [
        "### LSTM으로 IMDB 리뷰 감성 분석\n",
        "- 단어 빈도수: 10,000 (총 88,584)\n",
        "- 문장의 단어수: 500 (최대 2,494)\n",
        "- test data중 40%(10,000개)는 검증용으로"
      ],
      "metadata": {
        "id": "Dr8jUcVH_gqY"
      }
    },
    {
      "cell_type": "code",
      "source": [
        "import tensorflow as tf\n",
        "seed = 2022\n",
        "np.random.seed(seed)\n",
        "tf.random.set_seed(seed)"
      ],
      "metadata": {
        "id": "rnVjU8jN_ZI4"
      },
      "execution_count": 4,
      "outputs": []
    },
    {
      "cell_type": "code",
      "source": [
        "from tensorflow.keras.models import Sequential, load_model\n",
        "from tensorflow.keras.layers import Embedding, LSTM, Dense\n",
        "from tensorflow.keras.preprocessing.sequence import pad_sequences\n",
        "from tensorflow.keras.callbacks import ModelCheckpoint, EarlyStopping"
      ],
      "metadata": {
        "id": "BNCu-JESAq7-"
      },
      "execution_count": 5,
      "outputs": []
    },
    {
      "cell_type": "code",
      "source": [
        "(X_train, y_train), (X_test, y_test) = imdb.load_data(num_words=10000)\n",
        "X_train.shape, X_test.shape, y_train.shape"
      ],
      "metadata": {
        "colab": {
          "base_uri": "https://localhost:8080/"
        },
        "id": "H1Ga6a6YAtnr",
        "outputId": "d71e5779-2b5f-43d1-f8f6-8c2156abf5e7"
      },
      "execution_count": 6,
      "outputs": [
        {
          "output_type": "execute_result",
          "data": {
            "text/plain": [
              "((25000,), (25000,), (25000,))"
            ]
          },
          "metadata": {},
          "execution_count": 6
        }
      ]
    },
    {
      "cell_type": "code",
      "source": [
        "max_len = 500\n",
        "X_train = pad_sequences(X_train, maxlen=max_len)\n",
        "X_test = pad_sequences(X_test, maxlen=max_len)\n",
        "X_train.shape, X_test.shape"
      ],
      "metadata": {
        "colab": {
          "base_uri": "https://localhost:8080/"
        },
        "id": "Nt1Z8Br6A-dY",
        "outputId": "8610b32e-22d1-433d-c183-818e5bfdef83"
      },
      "execution_count": 7,
      "outputs": [
        {
          "output_type": "execute_result",
          "data": {
            "text/plain": [
              "((25000, 500), (25000, 500))"
            ]
          },
          "metadata": {},
          "execution_count": 7
        }
      ]
    },
    {
      "cell_type": "code",
      "source": [
        "from sklearn.model_selection import train_test_split\n",
        "X_test, X_valid, y_test, y_valid = train_test_split(\n",
        "    X_test, y_test, stratify=y_test, test_size=0.4, random_state=seed\n",
        ")\n",
        "X_test.shape, X_valid.shape, y_test.shape, y_valid.shape"
      ],
      "metadata": {
        "colab": {
          "base_uri": "https://localhost:8080/"
        },
        "id": "pegUNDSPC_J2",
        "outputId": "f6c63fa7-3efb-4783-cfa3-95ae20a9bfdd"
      },
      "execution_count": 8,
      "outputs": [
        {
          "output_type": "execute_result",
          "data": {
            "text/plain": [
              "((15000, 500), (10000, 500), (15000,), (10000,))"
            ]
          },
          "metadata": {},
          "execution_count": 8
        }
      ]
    },
    {
      "cell_type": "markdown",
      "source": [
        "- Case 1) LSTM\n",
        "    - embedding dim: 100\n",
        "    - hidden_units: 128"
      ],
      "metadata": {
        "id": "emuevffiBi2b"
      }
    },
    {
      "cell_type": "code",
      "source": [
        "model1 = Sequential([ \n",
        "    Embedding(10000, 100, input_length=max_len),\n",
        "    LSTM(128),\n",
        "    Dense(1, activation='sigmoid')\n",
        "])\n",
        "model1.summary()"
      ],
      "metadata": {
        "colab": {
          "base_uri": "https://localhost:8080/"
        },
        "id": "0aHJMfKaBcMs",
        "outputId": "61b14cf6-a6c7-4b80-aae1-edaf889e3bdc"
      },
      "execution_count": 9,
      "outputs": [
        {
          "output_type": "stream",
          "name": "stdout",
          "text": [
            "Model: \"sequential\"\n",
            "_________________________________________________________________\n",
            " Layer (type)                Output Shape              Param #   \n",
            "=================================================================\n",
            " embedding (Embedding)       (None, 500, 100)          1000000   \n",
            "                                                                 \n",
            " lstm (LSTM)                 (None, 128)               117248    \n",
            "                                                                 \n",
            " dense (Dense)               (None, 1)                 129       \n",
            "                                                                 \n",
            "=================================================================\n",
            "Total params: 1,117,377\n",
            "Trainable params: 1,117,377\n",
            "Non-trainable params: 0\n",
            "_________________________________________________________________\n"
          ]
        }
      ]
    },
    {
      "cell_type": "code",
      "source": [
        "model1.compile('adam', 'binary_crossentropy', ['accuracy'])\n",
        "\n",
        "model_path = 'best-imdb-lstm.h5'\n",
        "mc = ModelCheckpoint(model_path, save_best_only=True, verbose=1)\n",
        "es = EarlyStopping(patience=5)"
      ],
      "metadata": {
        "id": "I0x3BKWWCN32"
      },
      "execution_count": 10,
      "outputs": []
    },
    {
      "cell_type": "code",
      "source": [
        "hist1 = model1.fit(\n",
        "    X_train, y_train, epochs=30, batch_size=64, \n",
        "    validation_data=[X_valid, y_valid],\n",
        "    callbacks=[mc,es]\n",
        ")"
      ],
      "metadata": {
        "colab": {
          "base_uri": "https://localhost:8080/"
        },
        "id": "8V7rTA-CCmV8",
        "outputId": "ca4fd841-8ac5-4951-8dd9-fb8b4f5e571e"
      },
      "execution_count": 11,
      "outputs": [
        {
          "output_type": "stream",
          "name": "stdout",
          "text": [
            "Epoch 1/30\n",
            "391/391 [==============================] - ETA: 0s - loss: 0.5318 - accuracy: 0.7313\n",
            "Epoch 00001: val_loss improved from inf to 0.38056, saving model to best-imdb-lstm.h5\n",
            "391/391 [==============================] - 60s 141ms/step - loss: 0.5318 - accuracy: 0.7313 - val_loss: 0.3806 - val_accuracy: 0.8360\n",
            "Epoch 2/30\n",
            "391/391 [==============================] - ETA: 0s - loss: 0.3875 - accuracy: 0.8292\n",
            "Epoch 00002: val_loss did not improve from 0.38056\n",
            "391/391 [==============================] - 55s 140ms/step - loss: 0.3875 - accuracy: 0.8292 - val_loss: 0.4048 - val_accuracy: 0.8237\n",
            "Epoch 3/30\n",
            "391/391 [==============================] - ETA: 0s - loss: 0.2847 - accuracy: 0.8872\n",
            "Epoch 00003: val_loss did not improve from 0.38056\n",
            "391/391 [==============================] - 54s 139ms/step - loss: 0.2847 - accuracy: 0.8872 - val_loss: 0.4618 - val_accuracy: 0.7883\n",
            "Epoch 4/30\n",
            "391/391 [==============================] - ETA: 0s - loss: 0.2396 - accuracy: 0.9041\n",
            "Epoch 00004: val_loss improved from 0.38056 to 0.33656, saving model to best-imdb-lstm.h5\n",
            "391/391 [==============================] - 55s 140ms/step - loss: 0.2396 - accuracy: 0.9041 - val_loss: 0.3366 - val_accuracy: 0.8581\n",
            "Epoch 5/30\n",
            "391/391 [==============================] - ETA: 0s - loss: 0.1607 - accuracy: 0.9414\n",
            "Epoch 00005: val_loss did not improve from 0.33656\n",
            "391/391 [==============================] - 54s 139ms/step - loss: 0.1607 - accuracy: 0.9414 - val_loss: 0.3596 - val_accuracy: 0.8620\n",
            "Epoch 6/30\n",
            "391/391 [==============================] - ETA: 0s - loss: 0.2333 - accuracy: 0.9032\n",
            "Epoch 00006: val_loss did not improve from 0.33656\n",
            "391/391 [==============================] - 54s 139ms/step - loss: 0.2333 - accuracy: 0.9032 - val_loss: 0.4928 - val_accuracy: 0.8183\n",
            "Epoch 7/30\n",
            "391/391 [==============================] - ETA: 0s - loss: 0.2238 - accuracy: 0.9117\n",
            "Epoch 00007: val_loss did not improve from 0.33656\n",
            "391/391 [==============================] - 54s 139ms/step - loss: 0.2238 - accuracy: 0.9117 - val_loss: 0.3917 - val_accuracy: 0.8514\n",
            "Epoch 8/30\n",
            "391/391 [==============================] - ETA: 0s - loss: 0.1506 - accuracy: 0.9424\n",
            "Epoch 00008: val_loss did not improve from 0.33656\n",
            "391/391 [==============================] - 54s 139ms/step - loss: 0.1506 - accuracy: 0.9424 - val_loss: 0.4145 - val_accuracy: 0.8559\n",
            "Epoch 9/30\n",
            "391/391 [==============================] - ETA: 0s - loss: 0.1012 - accuracy: 0.9650\n",
            "Epoch 00009: val_loss did not improve from 0.33656\n",
            "391/391 [==============================] - 55s 140ms/step - loss: 0.1012 - accuracy: 0.9650 - val_loss: 0.4638 - val_accuracy: 0.8600\n"
          ]
        }
      ]
    },
    {
      "cell_type": "code",
      "source": [
        "best_model = load_model(model_path)\n",
        "best_model.evaluate(X_test, y_test)"
      ],
      "metadata": {
        "colab": {
          "base_uri": "https://localhost:8080/"
        },
        "id": "y5Uq8uXiD1b_",
        "outputId": "1ec25173-246f-4c74-b68c-6183568e0c81"
      },
      "execution_count": 12,
      "outputs": [
        {
          "output_type": "stream",
          "name": "stdout",
          "text": [
            "469/469 [==============================] - 18s 37ms/step - loss: 0.3348 - accuracy: 0.8579\n"
          ]
        },
        {
          "output_type": "execute_result",
          "data": {
            "text/plain": [
              "[0.33477967977523804, 0.857866644859314]"
            ]
          },
          "metadata": {},
          "execution_count": 12
        }
      ]
    },
    {
      "cell_type": "code",
      "source": [
        ""
      ],
      "metadata": {
        "id": "xf9nfsPvHBEG"
      },
      "execution_count": null,
      "outputs": []
    }
  ]
}