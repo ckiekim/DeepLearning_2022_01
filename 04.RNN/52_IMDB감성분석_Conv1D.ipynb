{
  "nbformat": 4,
  "nbformat_minor": 0,
  "metadata": {
    "colab": {
      "name": "52.IMDB감성분석-Conv1D.ipynb",
      "provenance": [],
      "collapsed_sections": []
    },
    "kernelspec": {
      "name": "python3",
      "display_name": "Python 3"
    },
    "language_info": {
      "name": "python"
    },
    "accelerator": "GPU"
  },
  "cells": [
    {
      "cell_type": "markdown",
      "source": [
        "# IMDB 영화 리뷰 감성 분석 - Conv1D"
      ],
      "metadata": {
        "id": "Qqcg0yeU9qNf"
      }
    },
    {
      "cell_type": "code",
      "execution_count": 1,
      "metadata": {
        "id": "PaW-zwDq9f5u"
      },
      "outputs": [],
      "source": [
        "import numpy as np\n",
        "import matplotlib.pyplot as plt\n",
        "from tensorflow.keras.datasets import imdb\n",
        "import warnings\n",
        "warnings.filterwarnings('ignore')"
      ]
    },
    {
      "cell_type": "markdown",
      "source": [
        "### Conv1D로 IMDB 리뷰 감성 분석\n",
        "- 단어 빈도수: 10,000 (총 88,584)\n",
        "- 문장의 단어수: 500 (최대 2,494)\n",
        "- test data중 40%(10,000개)는 검증용으로"
      ],
      "metadata": {
        "id": "Dr8jUcVH_gqY"
      }
    },
    {
      "cell_type": "code",
      "source": [
        "import tensorflow as tf\n",
        "seed = 2022\n",
        "np.random.seed(seed)\n",
        "tf.random.set_seed(seed)"
      ],
      "metadata": {
        "id": "rnVjU8jN_ZI4"
      },
      "execution_count": 2,
      "outputs": []
    },
    {
      "cell_type": "code",
      "source": [
        "from tensorflow.keras.models import Sequential, load_model\n",
        "from tensorflow.keras.layers import Embedding, Dense, Dropout\n",
        "from tensorflow.keras.layers import Conv1D, MaxPooling1D, GlobalMaxPooling1D\n",
        "from tensorflow.keras.preprocessing.sequence import pad_sequences\n",
        "from tensorflow.keras.callbacks import ModelCheckpoint, EarlyStopping"
      ],
      "metadata": {
        "id": "BNCu-JESAq7-"
      },
      "execution_count": 3,
      "outputs": []
    },
    {
      "cell_type": "code",
      "source": [
        "(X_train, y_train), (X_test, y_test) = imdb.load_data(num_words=10000)\n",
        "X_train.shape, X_test.shape, y_train.shape"
      ],
      "metadata": {
        "colab": {
          "base_uri": "https://localhost:8080/"
        },
        "id": "H1Ga6a6YAtnr",
        "outputId": "08be19a2-4956-4f35-aa00-21468851e801"
      },
      "execution_count": 4,
      "outputs": [
        {
          "output_type": "stream",
          "name": "stdout",
          "text": [
            "Downloading data from https://storage.googleapis.com/tensorflow/tf-keras-datasets/imdb.npz\n",
            "17465344/17464789 [==============================] - 0s 0us/step\n",
            "17473536/17464789 [==============================] - 0s 0us/step\n"
          ]
        },
        {
          "output_type": "execute_result",
          "data": {
            "text/plain": [
              "((25000,), (25000,), (25000,))"
            ]
          },
          "metadata": {},
          "execution_count": 4
        }
      ]
    },
    {
      "cell_type": "code",
      "source": [
        "max_len = 500\n",
        "X_train = pad_sequences(X_train, maxlen=max_len)\n",
        "X_test = pad_sequences(X_test, maxlen=max_len)\n",
        "X_train.shape, X_test.shape"
      ],
      "metadata": {
        "colab": {
          "base_uri": "https://localhost:8080/"
        },
        "id": "Nt1Z8Br6A-dY",
        "outputId": "b69f771d-332d-4a4a-d6c3-16ea04df0547"
      },
      "execution_count": 5,
      "outputs": [
        {
          "output_type": "execute_result",
          "data": {
            "text/plain": [
              "((25000, 500), (25000, 500))"
            ]
          },
          "metadata": {},
          "execution_count": 5
        }
      ]
    },
    {
      "cell_type": "code",
      "source": [
        "from sklearn.model_selection import train_test_split\n",
        "X_test, X_valid, y_test, y_valid = train_test_split(\n",
        "    X_test, y_test, stratify=y_test, test_size=0.4, random_state=seed\n",
        ")\n",
        "X_test.shape, X_valid.shape, y_test.shape, y_valid.shape"
      ],
      "metadata": {
        "colab": {
          "base_uri": "https://localhost:8080/"
        },
        "id": "pegUNDSPC_J2",
        "outputId": "94e19355-7fdb-4d25-e19a-4c17dc0b1dc2"
      },
      "execution_count": 6,
      "outputs": [
        {
          "output_type": "execute_result",
          "data": {
            "text/plain": [
              "((15000, 500), (10000, 500), (15000,), (10000,))"
            ]
          },
          "metadata": {},
          "execution_count": 6
        }
      ]
    },
    {
      "cell_type": "markdown",
      "source": [
        "- Case 1) Conv1D x 2, MaxPooling1D x 2, Dropout, GlobalMaxPooling1D\n",
        "    - embedding dim: 100"
      ],
      "metadata": {
        "id": "emuevffiBi2b"
      }
    },
    {
      "cell_type": "code",
      "source": [
        "model1 = Sequential([ \n",
        "    Embedding(10000, 100, input_length=max_len),\n",
        "    Dropout(0.5),\n",
        "    Conv1D(64, 7, activation='relu'),\n",
        "    MaxPooling1D(7),\n",
        "    Conv1D(64, 5, activation='relu'),\n",
        "    MaxPooling1D(5),\n",
        "    GlobalMaxPooling1D(),\n",
        "    Dense(1, activation='sigmoid')\n",
        "])\n",
        "model1.summary()"
      ],
      "metadata": {
        "colab": {
          "base_uri": "https://localhost:8080/"
        },
        "id": "0aHJMfKaBcMs",
        "outputId": "220ed037-6836-4f56-d934-6bfb30f8d40e"
      },
      "execution_count": 7,
      "outputs": [
        {
          "output_type": "stream",
          "name": "stdout",
          "text": [
            "Model: \"sequential\"\n",
            "_________________________________________________________________\n",
            " Layer (type)                Output Shape              Param #   \n",
            "=================================================================\n",
            " embedding (Embedding)       (None, 500, 100)          1000000   \n",
            "                                                                 \n",
            " dropout (Dropout)           (None, 500, 100)          0         \n",
            "                                                                 \n",
            " conv1d (Conv1D)             (None, 494, 64)           44864     \n",
            "                                                                 \n",
            " max_pooling1d (MaxPooling1D  (None, 70, 64)           0         \n",
            " )                                                               \n",
            "                                                                 \n",
            " conv1d_1 (Conv1D)           (None, 66, 64)            20544     \n",
            "                                                                 \n",
            " max_pooling1d_1 (MaxPooling  (None, 13, 64)           0         \n",
            " 1D)                                                             \n",
            "                                                                 \n",
            " global_max_pooling1d (Globa  (None, 64)               0         \n",
            " lMaxPooling1D)                                                  \n",
            "                                                                 \n",
            " dense (Dense)               (None, 1)                 65        \n",
            "                                                                 \n",
            "=================================================================\n",
            "Total params: 1,065,473\n",
            "Trainable params: 1,065,473\n",
            "Non-trainable params: 0\n",
            "_________________________________________________________________\n"
          ]
        }
      ]
    },
    {
      "cell_type": "code",
      "source": [
        "model1.compile('adam', 'binary_crossentropy', ['accuracy'])\n",
        "\n",
        "model_path = 'best-imdb-conv1d.h5'\n",
        "mc = ModelCheckpoint(model_path, save_best_only=True, verbose=1)\n",
        "es = EarlyStopping(patience=5)"
      ],
      "metadata": {
        "id": "I0x3BKWWCN32"
      },
      "execution_count": 8,
      "outputs": []
    },
    {
      "cell_type": "code",
      "source": [
        "hist1 = model1.fit(\n",
        "    X_train, y_train, epochs=30, batch_size=128, \n",
        "    validation_data=[X_valid, y_valid],\n",
        "    callbacks=[mc,es]\n",
        ")"
      ],
      "metadata": {
        "colab": {
          "base_uri": "https://localhost:8080/"
        },
        "id": "8V7rTA-CCmV8",
        "outputId": "529a9752-66c4-4a1d-e565-1d55013bc9fb"
      },
      "execution_count": 9,
      "outputs": [
        {
          "output_type": "stream",
          "name": "stdout",
          "text": [
            "Epoch 1/30\n",
            "196/196 [==============================] - ETA: 0s - loss: 0.5400 - accuracy: 0.6996\n",
            "Epoch 00001: val_loss improved from inf to 0.35259, saving model to best-imdb-conv1d.h5\n",
            "196/196 [==============================] - 15s 19ms/step - loss: 0.5400 - accuracy: 0.6996 - val_loss: 0.3526 - val_accuracy: 0.8431\n",
            "Epoch 2/30\n",
            "193/196 [============================>.] - ETA: 0s - loss: 0.2818 - accuracy: 0.8860\n",
            "Epoch 00002: val_loss improved from 0.35259 to 0.32005, saving model to best-imdb-conv1d.h5\n",
            "196/196 [==============================] - 3s 15ms/step - loss: 0.2818 - accuracy: 0.8859 - val_loss: 0.3200 - val_accuracy: 0.8615\n",
            "Epoch 3/30\n",
            "193/196 [============================>.] - ETA: 0s - loss: 0.2071 - accuracy: 0.9220\n",
            "Epoch 00003: val_loss did not improve from 0.32005\n",
            "196/196 [==============================] - 3s 15ms/step - loss: 0.2071 - accuracy: 0.9220 - val_loss: 0.3343 - val_accuracy: 0.8607\n",
            "Epoch 4/30\n",
            "193/196 [============================>.] - ETA: 0s - loss: 0.1547 - accuracy: 0.9413\n",
            "Epoch 00004: val_loss did not improve from 0.32005\n",
            "196/196 [==============================] - 3s 15ms/step - loss: 0.1550 - accuracy: 0.9412 - val_loss: 0.3698 - val_accuracy: 0.8539\n",
            "Epoch 5/30\n",
            "193/196 [============================>.] - ETA: 0s - loss: 0.1177 - accuracy: 0.9560\n",
            "Epoch 00005: val_loss did not improve from 0.32005\n",
            "196/196 [==============================] - 3s 15ms/step - loss: 0.1180 - accuracy: 0.9561 - val_loss: 0.4379 - val_accuracy: 0.8515\n",
            "Epoch 6/30\n",
            "193/196 [============================>.] - ETA: 0s - loss: 0.0880 - accuracy: 0.9680\n",
            "Epoch 00006: val_loss did not improve from 0.32005\n",
            "196/196 [==============================] - 3s 15ms/step - loss: 0.0878 - accuracy: 0.9680 - val_loss: 0.4856 - val_accuracy: 0.8506\n",
            "Epoch 7/30\n",
            "193/196 [============================>.] - ETA: 0s - loss: 0.0665 - accuracy: 0.9762\n",
            "Epoch 00007: val_loss did not improve from 0.32005\n",
            "196/196 [==============================] - 3s 15ms/step - loss: 0.0663 - accuracy: 0.9762 - val_loss: 0.5382 - val_accuracy: 0.8505\n"
          ]
        }
      ]
    },
    {
      "cell_type": "code",
      "source": [
        "best_model = load_model(model_path)\n",
        "best_model.evaluate(X_test, y_test)"
      ],
      "metadata": {
        "colab": {
          "base_uri": "https://localhost:8080/"
        },
        "id": "y5Uq8uXiD1b_",
        "outputId": "91f1f796-9e72-48bb-952e-c95e4101937b"
      },
      "execution_count": 10,
      "outputs": [
        {
          "output_type": "stream",
          "name": "stdout",
          "text": [
            "469/469 [==============================] - 2s 3ms/step - loss: 0.3159 - accuracy: 0.8651\n"
          ]
        },
        {
          "output_type": "execute_result",
          "data": {
            "text/plain": [
              "[0.3159463405609131, 0.8651333451271057]"
            ]
          },
          "metadata": {},
          "execution_count": 10
        }
      ]
    },
    {
      "cell_type": "markdown",
      "source": [
        "- Case 2) Conv1D + LSTM"
      ],
      "metadata": {
        "id": "Mbz-cbDqoC3M"
      }
    },
    {
      "cell_type": "code",
      "source": [
        "from tensorflow.keras.layers import LSTM"
      ],
      "metadata": {
        "id": "xf9nfsPvHBEG"
      },
      "execution_count": 11,
      "outputs": []
    },
    {
      "cell_type": "code",
      "source": [
        "model2 = Sequential([ \n",
        "    Embedding(10000, 100, input_length=max_len),\n",
        "    Dropout(0.5),\n",
        "    Conv1D(64, 5, activation='relu'),\n",
        "    MaxPooling1D(4),\n",
        "    LSTM(100),\n",
        "    Dense(1, activation='sigmoid')\n",
        "])\n",
        "model2.summary()"
      ],
      "metadata": {
        "colab": {
          "base_uri": "https://localhost:8080/"
        },
        "id": "xAma584ToOvp",
        "outputId": "3d97aa7f-a9a4-419f-b781-4b558234e4b1"
      },
      "execution_count": 12,
      "outputs": [
        {
          "output_type": "stream",
          "name": "stdout",
          "text": [
            "Model: \"sequential_1\"\n",
            "_________________________________________________________________\n",
            " Layer (type)                Output Shape              Param #   \n",
            "=================================================================\n",
            " embedding_1 (Embedding)     (None, 500, 100)          1000000   \n",
            "                                                                 \n",
            " dropout_1 (Dropout)         (None, 500, 100)          0         \n",
            "                                                                 \n",
            " conv1d_2 (Conv1D)           (None, 496, 64)           32064     \n",
            "                                                                 \n",
            " max_pooling1d_2 (MaxPooling  (None, 124, 64)          0         \n",
            " 1D)                                                             \n",
            "                                                                 \n",
            " lstm (LSTM)                 (None, 100)               66000     \n",
            "                                                                 \n",
            " dense_1 (Dense)             (None, 1)                 101       \n",
            "                                                                 \n",
            "=================================================================\n",
            "Total params: 1,098,165\n",
            "Trainable params: 1,098,165\n",
            "Non-trainable params: 0\n",
            "_________________________________________________________________\n"
          ]
        }
      ]
    },
    {
      "cell_type": "code",
      "source": [
        "model2.compile('adam', 'binary_crossentropy', ['accuracy'])\n",
        "\n",
        "model_path = 'best-imdb-conv1d-lstm.h5'\n",
        "mc = ModelCheckpoint(model_path, save_best_only=True, verbose=1)\n",
        "es = EarlyStopping(patience=5)"
      ],
      "metadata": {
        "id": "6TAMD-pPoiZt"
      },
      "execution_count": 13,
      "outputs": []
    },
    {
      "cell_type": "code",
      "source": [
        "hist2 = model2.fit(\n",
        "    X_train, y_train, epochs=30, batch_size=128, \n",
        "    validation_data=[X_valid, y_valid],\n",
        "    callbacks=[mc,es]\n",
        ")"
      ],
      "metadata": {
        "colab": {
          "base_uri": "https://localhost:8080/"
        },
        "id": "AUSDqJ9Vowvh",
        "outputId": "d1cba11f-92b4-4881-be43-d1c18a0aa19a"
      },
      "execution_count": 14,
      "outputs": [
        {
          "output_type": "stream",
          "name": "stdout",
          "text": [
            "Epoch 1/30\n",
            "195/196 [============================>.] - ETA: 0s - loss: 0.4300 - accuracy: 0.7854\n",
            "Epoch 00001: val_loss improved from inf to 0.30058, saving model to best-imdb-conv1d-lstm.h5\n",
            "196/196 [==============================] - 9s 27ms/step - loss: 0.4298 - accuracy: 0.7854 - val_loss: 0.3006 - val_accuracy: 0.8709\n",
            "Epoch 2/30\n",
            "193/196 [============================>.] - ETA: 0s - loss: 0.2156 - accuracy: 0.9191\n",
            "Epoch 00002: val_loss improved from 0.30058 to 0.28859, saving model to best-imdb-conv1d-lstm.h5\n",
            "196/196 [==============================] - 5s 23ms/step - loss: 0.2162 - accuracy: 0.9189 - val_loss: 0.2886 - val_accuracy: 0.8803\n",
            "Epoch 3/30\n",
            "196/196 [==============================] - ETA: 0s - loss: 0.1566 - accuracy: 0.9433\n",
            "Epoch 00003: val_loss did not improve from 0.28859\n",
            "196/196 [==============================] - 4s 23ms/step - loss: 0.1566 - accuracy: 0.9433 - val_loss: 0.3202 - val_accuracy: 0.8825\n",
            "Epoch 4/30\n",
            "194/196 [============================>.] - ETA: 0s - loss: 0.1215 - accuracy: 0.9567\n",
            "Epoch 00004: val_loss did not improve from 0.28859\n",
            "196/196 [==============================] - 5s 23ms/step - loss: 0.1213 - accuracy: 0.9568 - val_loss: 0.3275 - val_accuracy: 0.8744\n",
            "Epoch 5/30\n",
            "196/196 [==============================] - ETA: 0s - loss: 0.0998 - accuracy: 0.9655\n",
            "Epoch 00005: val_loss did not improve from 0.28859\n",
            "196/196 [==============================] - 4s 22ms/step - loss: 0.0998 - accuracy: 0.9655 - val_loss: 0.4868 - val_accuracy: 0.8564\n",
            "Epoch 6/30\n",
            "196/196 [==============================] - ETA: 0s - loss: 0.0784 - accuracy: 0.9735\n",
            "Epoch 00006: val_loss did not improve from 0.28859\n",
            "196/196 [==============================] - 5s 23ms/step - loss: 0.0784 - accuracy: 0.9735 - val_loss: 0.4086 - val_accuracy: 0.8721\n",
            "Epoch 7/30\n",
            "195/196 [============================>.] - ETA: 0s - loss: 0.0581 - accuracy: 0.9825\n",
            "Epoch 00007: val_loss did not improve from 0.28859\n",
            "196/196 [==============================] - 5s 23ms/step - loss: 0.0580 - accuracy: 0.9825 - val_loss: 0.4458 - val_accuracy: 0.8699\n"
          ]
        }
      ]
    },
    {
      "cell_type": "code",
      "source": [
        "best_model = load_model(model_path)\n",
        "best_model.evaluate(X_test, y_test)"
      ],
      "metadata": {
        "colab": {
          "base_uri": "https://localhost:8080/"
        },
        "id": "wMmHXwzfo2ua",
        "outputId": "43580df2-4ffc-4900-8061-d53c847d4d31"
      },
      "execution_count": 15,
      "outputs": [
        {
          "output_type": "stream",
          "name": "stdout",
          "text": [
            "469/469 [==============================] - 3s 5ms/step - loss: 0.2876 - accuracy: 0.8809\n"
          ]
        },
        {
          "output_type": "execute_result",
          "data": {
            "text/plain": [
              "[0.28758394718170166, 0.8808666467666626]"
            ]
          },
          "metadata": {},
          "execution_count": 15
        }
      ]
    },
    {
      "cell_type": "markdown",
      "source": [
        "- Case 3) Conv1D + Dense"
      ],
      "metadata": {
        "id": "V7QHLjOWpdNB"
      }
    },
    {
      "cell_type": "code",
      "source": [
        "model3 = Sequential([ \n",
        "    Embedding(10000, 100, input_length=max_len),\n",
        "    Dropout(0.5),\n",
        "    Conv1D(64, 5, activation='relu'),\n",
        "    MaxPooling1D(4),\n",
        "    GlobalMaxPooling1D(),\n",
        "    Dense(100, activation='relu'),  \n",
        "    Dense(1, activation='sigmoid')\n",
        "])\n",
        "model3.summary()"
      ],
      "metadata": {
        "colab": {
          "base_uri": "https://localhost:8080/"
        },
        "id": "kXmGpZkJplMO",
        "outputId": "a4c970c3-06c0-4f4e-e407-9f9820a194ba"
      },
      "execution_count": 18,
      "outputs": [
        {
          "output_type": "stream",
          "name": "stdout",
          "text": [
            "Model: \"sequential_4\"\n",
            "_________________________________________________________________\n",
            " Layer (type)                Output Shape              Param #   \n",
            "=================================================================\n",
            " embedding_4 (Embedding)     (None, 500, 100)          1000000   \n",
            "                                                                 \n",
            " dropout_4 (Dropout)         (None, 500, 100)          0         \n",
            "                                                                 \n",
            " conv1d_5 (Conv1D)           (None, 496, 64)           32064     \n",
            "                                                                 \n",
            " max_pooling1d_5 (MaxPooling  (None, 124, 64)          0         \n",
            " 1D)                                                             \n",
            "                                                                 \n",
            " global_max_pooling1d_3 (Glo  (None, 64)               0         \n",
            " balMaxPooling1D)                                                \n",
            "                                                                 \n",
            " dense_6 (Dense)             (None, 100)               6500      \n",
            "                                                                 \n",
            " dense_7 (Dense)             (None, 1)                 101       \n",
            "                                                                 \n",
            "=================================================================\n",
            "Total params: 1,038,665\n",
            "Trainable params: 1,038,665\n",
            "Non-trainable params: 0\n",
            "_________________________________________________________________\n"
          ]
        }
      ]
    },
    {
      "cell_type": "code",
      "source": [
        "model3.compile('adam', 'binary_crossentropy', ['accuracy'])\n",
        "\n",
        "model_path = 'best-imdb-conv1d-fcn.h5'\n",
        "mc = ModelCheckpoint(model_path, save_best_only=True, verbose=1)\n",
        "es = EarlyStopping(patience=5)"
      ],
      "metadata": {
        "id": "F-FVkyBlqKJt"
      },
      "execution_count": 20,
      "outputs": []
    },
    {
      "cell_type": "code",
      "source": [
        "hist3 = model3.fit(\n",
        "    X_train, y_train, epochs=30, batch_size=128, \n",
        "    validation_data=[X_valid, y_valid],\n",
        "    callbacks=[mc,es]\n",
        ")"
      ],
      "metadata": {
        "colab": {
          "base_uri": "https://localhost:8080/"
        },
        "id": "qPRCDVHZqMIz",
        "outputId": "a5edb017-ee94-4987-bdb0-17852697566f"
      },
      "execution_count": 21,
      "outputs": [
        {
          "output_type": "stream",
          "name": "stdout",
          "text": [
            "Epoch 1/30\n",
            "192/196 [============================>.] - ETA: 0s - loss: 0.5734 - accuracy: 0.6825\n",
            "Epoch 00001: val_loss improved from inf to 0.35592, saving model to best-imdb-conv1d-fcn.h5\n",
            "196/196 [==============================] - 5s 19ms/step - loss: 0.5710 - accuracy: 0.6843 - val_loss: 0.3559 - val_accuracy: 0.8430\n",
            "Epoch 2/30\n",
            "195/196 [============================>.] - ETA: 0s - loss: 0.2959 - accuracy: 0.8772\n",
            "Epoch 00002: val_loss improved from 0.35592 to 0.27714, saving model to best-imdb-conv1d-fcn.h5\n",
            "196/196 [==============================] - 4s 18ms/step - loss: 0.2959 - accuracy: 0.8772 - val_loss: 0.2771 - val_accuracy: 0.8827\n",
            "Epoch 3/30\n",
            "194/196 [============================>.] - ETA: 0s - loss: 0.2025 - accuracy: 0.9227\n",
            "Epoch 00003: val_loss improved from 0.27714 to 0.26338, saving model to best-imdb-conv1d-fcn.h5\n",
            "196/196 [==============================] - 3s 14ms/step - loss: 0.2027 - accuracy: 0.9226 - val_loss: 0.2634 - val_accuracy: 0.8925\n",
            "Epoch 4/30\n",
            "193/196 [============================>.] - ETA: 0s - loss: 0.1460 - accuracy: 0.9449\n",
            "Epoch 00004: val_loss did not improve from 0.26338\n",
            "196/196 [==============================] - 3s 14ms/step - loss: 0.1459 - accuracy: 0.9450 - val_loss: 0.2749 - val_accuracy: 0.8902\n",
            "Epoch 5/30\n",
            "194/196 [============================>.] - ETA: 0s - loss: 0.1050 - accuracy: 0.9612\n",
            "Epoch 00005: val_loss did not improve from 0.26338\n",
            "196/196 [==============================] - 3s 14ms/step - loss: 0.1049 - accuracy: 0.9611 - val_loss: 0.2954 - val_accuracy: 0.8938\n",
            "Epoch 6/30\n",
            "193/196 [============================>.] - ETA: 0s - loss: 0.0751 - accuracy: 0.9741\n",
            "Epoch 00006: val_loss did not improve from 0.26338\n",
            "196/196 [==============================] - 3s 14ms/step - loss: 0.0754 - accuracy: 0.9740 - val_loss: 0.3269 - val_accuracy: 0.8889\n",
            "Epoch 7/30\n",
            "192/196 [============================>.] - ETA: 0s - loss: 0.0559 - accuracy: 0.9810\n",
            "Epoch 00007: val_loss did not improve from 0.26338\n",
            "196/196 [==============================] - 3s 14ms/step - loss: 0.0558 - accuracy: 0.9810 - val_loss: 0.3500 - val_accuracy: 0.8872\n",
            "Epoch 8/30\n",
            "195/196 [============================>.] - ETA: 0s - loss: 0.0420 - accuracy: 0.9864\n",
            "Epoch 00008: val_loss did not improve from 0.26338\n",
            "196/196 [==============================] - 3s 14ms/step - loss: 0.0420 - accuracy: 0.9864 - val_loss: 0.3886 - val_accuracy: 0.8860\n"
          ]
        }
      ]
    },
    {
      "cell_type": "code",
      "source": [
        "best_model = load_model(model_path)\n",
        "best_model.evaluate(X_test, y_test)"
      ],
      "metadata": {
        "colab": {
          "base_uri": "https://localhost:8080/"
        },
        "id": "HDW78sxoqejz",
        "outputId": "2bda31f8-eba6-4cbd-d0b6-ed8902accaea"
      },
      "execution_count": 22,
      "outputs": [
        {
          "output_type": "stream",
          "name": "stdout",
          "text": [
            "469/469 [==============================] - 2s 3ms/step - loss: 0.2667 - accuracy: 0.8919\n"
          ]
        },
        {
          "output_type": "execute_result",
          "data": {
            "text/plain": [
              "[0.26671740412712097, 0.8918666839599609]"
            ]
          },
          "metadata": {},
          "execution_count": 22
        }
      ]
    },
    {
      "cell_type": "code",
      "source": [
        ""
      ],
      "metadata": {
        "id": "SUhLqkV_qfK4"
      },
      "execution_count": null,
      "outputs": []
    }
  ]
}