{
  "nbformat": 4,
  "nbformat_minor": 0,
  "metadata": {
    "colab": {
      "name": "11.dogs_and_cats_파일준비.ipynb",
      "provenance": [],
      "collapsed_sections": []
    },
    "kernelspec": {
      "name": "python3",
      "display_name": "Python 3"
    },
    "language_info": {
      "name": "python"
    }
  },
  "cells": [
    {
      "cell_type": "code",
      "execution_count": 12,
      "metadata": {
        "id": "sU70rHlTKktJ"
      },
      "outputs": [],
      "source": [
        "import cv2\n",
        "import numpy as np\n",
        "from PIL import Image\n",
        "import matplotlib.pyplot as plt"
      ]
    },
    {
      "cell_type": "code",
      "source": [
        "!wget https://storage.googleapis.com/mledu-datasets/cats_and_dogs_filtered.zip"
      ],
      "metadata": {
        "colab": {
          "base_uri": "https://localhost:8080/"
        },
        "id": "TqwHJARzKrxN",
        "outputId": "b752a426-0117-4138-f62b-f09f8edfa63e"
      },
      "execution_count": 2,
      "outputs": [
        {
          "output_type": "stream",
          "name": "stdout",
          "text": [
            "--2022-01-23 04:21:49--  https://storage.googleapis.com/mledu-datasets/cats_and_dogs_filtered.zip\n",
            "Resolving storage.googleapis.com (storage.googleapis.com)... 64.233.170.128, 108.177.11.128, 74.125.31.128, ...\n",
            "Connecting to storage.googleapis.com (storage.googleapis.com)|64.233.170.128|:443... connected.\n",
            "HTTP request sent, awaiting response... 200 OK\n",
            "Length: 68606236 (65M) [application/zip]\n",
            "Saving to: ‘cats_and_dogs_filtered.zip’\n",
            "\n",
            "cats_and_dogs_filte 100%[===================>]  65.43M   231MB/s    in 0.3s    \n",
            "\n",
            "2022-01-23 04:21:50 (231 MB/s) - ‘cats_and_dogs_filtered.zip’ saved [68606236/68606236]\n",
            "\n"
          ]
        }
      ]
    },
    {
      "cell_type": "code",
      "source": [
        "!unzip cats_and_dogs_filtered.zip > /dev/null"
      ],
      "metadata": {
        "id": "AE4i3mnJKzky"
      },
      "execution_count": 3,
      "outputs": []
    },
    {
      "cell_type": "code",
      "source": [
        "# 이미지를 센터링해서 이미지를 리턴하는 함수\n",
        "IMAGE_SIZE = 150\n",
        "\n",
        "def center_image(img):\n",
        "    h, w, _ = np.array(img).shape\n",
        "    if h > w:\n",
        "        width, height = IMAGE_SIZE, (h * IMAGE_SIZE) // w\n",
        "    else:\n",
        "        width, height = (w * IMAGE_SIZE) // h, IMAGE_SIZE\n",
        "\n",
        "    new_img = np.array(img.resize((width,height)))\n",
        "\n",
        "    diff = abs(width - height)//2\n",
        "    if width > height:\n",
        "        final_img = new_img[:, diff:diff+IMAGE_SIZE, :]\n",
        "    else:\n",
        "        final_img = new_img[diff:diff+IMAGE_SIZE, :, :]\n",
        "\n",
        "    return final_img"
      ],
      "metadata": {
        "id": "nKQKSJaVPrz8"
      },
      "execution_count": 13,
      "outputs": []
    },
    {
      "cell_type": "code",
      "source": [
        "import os\n",
        "CENTER_DIR = 'cats_and_dogs_centered'\n",
        "if not os.path.exists(CENTER_DIR):\n",
        "    os.mkdir(CENTER_DIR)"
      ],
      "metadata": {
        "id": "86Io4Et0K2Wf"
      },
      "execution_count": 4,
      "outputs": []
    },
    {
      "cell_type": "code",
      "source": [
        "train_dir = f'{CENTER_DIR}/train'\n",
        "validation_dir = f'{CENTER_DIR}/validation'\n",
        "train_cats_dir = f'{CENTER_DIR}/train/cats'\n",
        "train_dogs_dir = f'{CENTER_DIR}/train/dogs'\n",
        "validation_cats_dir = f'{CENTER_DIR}/validation/cats'\n",
        "validation_dogs_dir = f'{CENTER_DIR}/validation/dogs'"
      ],
      "metadata": {
        "id": "HhWfZ644LO4r"
      },
      "execution_count": 6,
      "outputs": []
    },
    {
      "cell_type": "code",
      "source": [
        "for dir in [train_dir,validation_dir,train_cats_dir,train_dogs_dir,validation_cats_dir,validation_dogs_dir]:\n",
        "    os.mkdir(dir)"
      ],
      "metadata": {
        "id": "ue3TK-keL1N4"
      },
      "execution_count": 7,
      "outputs": []
    },
    {
      "cell_type": "code",
      "source": [
        "old_train_dir = 'cats_and_dogs_filtered/train'\n",
        "old_validation_dir = 'cats_and_dogs_filtered/validation'\n",
        "old_train_cats_dir = 'cats_and_dogs_filtered/train/cats'\n",
        "old_train_dogs_dir = 'cats_and_dogs_filtered/train/dogs'\n",
        "old_validation_cats_dir = 'cats_and_dogs_filtered/validation/cats'\n",
        "old_validation_dogs_dir = 'cats_and_dogs_filtered/validation/dogs'"
      ],
      "metadata": {
        "id": "vZvxZYqGMIVW"
      },
      "execution_count": 8,
      "outputs": []
    },
    {
      "cell_type": "code",
      "source": [
        "from glob import glob\n",
        "for src_dir in [old_train_cats_dir,old_train_dogs_dir,old_validation_cats_dir,old_validation_dogs_dir]:\n",
        "    dst_dir = src_dir.split('/')[1:]\n",
        "    dst_dir = '/'.join([CENTER_DIR] + dst_dir)\n",
        "    for fname in glob(f'{src_dir}/*.jpg'):\n",
        "        dst_fname = fname.split('/')[-1]\n",
        "        src_img = Image.open(fname)         # 사이즈가 제각각인 이미지\n",
        "        dst_img = center_image(src_img)     # 150 x 150으로 centering된 이미지\n",
        "        dst_img.save(f'{dst_dir}/{dst_fname}')\n",
        "        "
      ],
      "metadata": {
        "colab": {
          "base_uri": "https://localhost:8080/"
        },
        "id": "tUxK0dxuMmpc",
        "outputId": "1160890f-db10-434f-8a07-982f415e6490"
      },
      "execution_count": 11,
      "outputs": [
        {
          "output_type": "stream",
          "name": "stdout",
          "text": [
            "cats_and_dogs_centered/train/cats\n",
            "cats_and_dogs_centered/train/dogs\n",
            "cats_and_dogs_centered/validation/cats\n",
            "cats_and_dogs_centered/validation/dogs\n"
          ]
        }
      ]
    },
    {
      "cell_type": "code",
      "source": [
        ""
      ],
      "metadata": {
        "id": "DkVY4kn5NbVJ"
      },
      "execution_count": null,
      "outputs": []
    }
  ]
}