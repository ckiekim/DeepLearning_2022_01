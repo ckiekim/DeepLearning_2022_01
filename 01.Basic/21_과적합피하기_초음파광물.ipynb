{
  "nbformat": 4,
  "nbformat_minor": 0,
  "metadata": {
    "colab": {
      "name": "21.과적합피하기-초음파광물.ipynb",
      "provenance": [],
      "collapsed_sections": []
    },
    "kernelspec": {
      "name": "python3",
      "display_name": "Python 3"
    },
    "language_info": {
      "name": "python"
    }
  },
  "cells": [
    {
      "cell_type": "markdown",
      "source": [
        "# 과적합 피하기 - 초음파 광물 데이터"
      ],
      "metadata": {
        "id": "o4h4HIBjzrQq"
      }
    },
    {
      "cell_type": "code",
      "execution_count": 1,
      "metadata": {
        "id": "sc2gy12Mzptk"
      },
      "outputs": [],
      "source": [
        "import numpy as np\n",
        "import pandas as pd\n",
        "import tensorflow as tf\n",
        "seed = 2022\n",
        "np.random.seed(seed)\n",
        "tf.random.set_seed(seed)"
      ]
    },
    {
      "cell_type": "markdown",
      "source": [
        "- 데이터 전처리"
      ],
      "metadata": {
        "id": "MuC4hKuu0JyW"
      }
    },
    {
      "cell_type": "code",
      "source": [
        "from google.colab import files\n",
        "up = files.upload()\n",
        "filename = list(up.keys())[0]"
      ],
      "metadata": {
        "colab": {
          "resources": {
            "http://localhost:8080/nbextensions/google.colab/files.js": {
              "data": "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",
              "ok": true,
              "headers": [
                [
                  "content-type",
                  "application/javascript"
                ]
              ],
              "status": 200,
              "status_text": ""
            }
          },
          "base_uri": "https://localhost:8080/",
          "height": 78
        },
        "id": "Ri97CFZz0AgX",
        "outputId": "d3ce4364-71d0-4b3b-ec14-371f22f2d55d"
      },
      "execution_count": 2,
      "outputs": [
        {
          "output_type": "display_data",
          "data": {
            "text/html": [
              "\n",
              "     <input type=\"file\" id=\"files-1ceffbb0-4126-49cd-b25f-c1e1eb96fb93\" name=\"files[]\" multiple disabled\n",
              "        style=\"border:none\" />\n",
              "     <output id=\"result-1ceffbb0-4126-49cd-b25f-c1e1eb96fb93\">\n",
              "      Upload widget is only available when the cell has been executed in the\n",
              "      current browser session. Please rerun this cell to enable.\n",
              "      </output>\n",
              "      <script src=\"/nbextensions/google.colab/files.js\"></script> "
            ],
            "text/plain": [
              "<IPython.core.display.HTML object>"
            ]
          },
          "metadata": {}
        },
        {
          "output_type": "stream",
          "name": "stdout",
          "text": [
            "Saving sonar.csv to sonar (1).csv\n"
          ]
        }
      ]
    },
    {
      "cell_type": "code",
      "source": [
        "df = pd.read_csv(filename, header=None)\n",
        "df.head(3)"
      ],
      "metadata": {
        "colab": {
          "base_uri": "https://localhost:8080/",
          "height": 207
        },
        "id": "wZZa_09E0WK8",
        "outputId": "7b99c3ab-b4aa-4d96-9e2a-96be5a6ce365"
      },
      "execution_count": 3,
      "outputs": [
        {
          "output_type": "execute_result",
          "data": {
            "text/html": [
              "\n",
              "  <div id=\"df-2193a823-bda4-4907-b2a5-e3722cf4b6ac\">\n",
              "    <div class=\"colab-df-container\">\n",
              "      <div>\n",
              "<style scoped>\n",
              "    .dataframe tbody tr th:only-of-type {\n",
              "        vertical-align: middle;\n",
              "    }\n",
              "\n",
              "    .dataframe tbody tr th {\n",
              "        vertical-align: top;\n",
              "    }\n",
              "\n",
              "    .dataframe thead th {\n",
              "        text-align: right;\n",
              "    }\n",
              "</style>\n",
              "<table border=\"1\" class=\"dataframe\">\n",
              "  <thead>\n",
              "    <tr style=\"text-align: right;\">\n",
              "      <th></th>\n",
              "      <th>0</th>\n",
              "      <th>1</th>\n",
              "      <th>2</th>\n",
              "      <th>3</th>\n",
              "      <th>4</th>\n",
              "      <th>5</th>\n",
              "      <th>6</th>\n",
              "      <th>7</th>\n",
              "      <th>8</th>\n",
              "      <th>9</th>\n",
              "      <th>10</th>\n",
              "      <th>11</th>\n",
              "      <th>12</th>\n",
              "      <th>13</th>\n",
              "      <th>14</th>\n",
              "      <th>15</th>\n",
              "      <th>16</th>\n",
              "      <th>17</th>\n",
              "      <th>18</th>\n",
              "      <th>19</th>\n",
              "      <th>20</th>\n",
              "      <th>21</th>\n",
              "      <th>22</th>\n",
              "      <th>23</th>\n",
              "      <th>24</th>\n",
              "      <th>25</th>\n",
              "      <th>26</th>\n",
              "      <th>27</th>\n",
              "      <th>28</th>\n",
              "      <th>29</th>\n",
              "      <th>30</th>\n",
              "      <th>31</th>\n",
              "      <th>32</th>\n",
              "      <th>33</th>\n",
              "      <th>34</th>\n",
              "      <th>35</th>\n",
              "      <th>36</th>\n",
              "      <th>37</th>\n",
              "      <th>38</th>\n",
              "      <th>39</th>\n",
              "      <th>40</th>\n",
              "      <th>41</th>\n",
              "      <th>42</th>\n",
              "      <th>43</th>\n",
              "      <th>44</th>\n",
              "      <th>45</th>\n",
              "      <th>46</th>\n",
              "      <th>47</th>\n",
              "      <th>48</th>\n",
              "      <th>49</th>\n",
              "      <th>50</th>\n",
              "      <th>51</th>\n",
              "      <th>52</th>\n",
              "      <th>53</th>\n",
              "      <th>54</th>\n",
              "      <th>55</th>\n",
              "      <th>56</th>\n",
              "      <th>57</th>\n",
              "      <th>58</th>\n",
              "      <th>59</th>\n",
              "      <th>60</th>\n",
              "    </tr>\n",
              "  </thead>\n",
              "  <tbody>\n",
              "    <tr>\n",
              "      <th>0</th>\n",
              "      <td>0.0200</td>\n",
              "      <td>0.0371</td>\n",
              "      <td>0.0428</td>\n",
              "      <td>0.0207</td>\n",
              "      <td>0.0954</td>\n",
              "      <td>0.0986</td>\n",
              "      <td>0.1539</td>\n",
              "      <td>0.1601</td>\n",
              "      <td>0.3109</td>\n",
              "      <td>0.2111</td>\n",
              "      <td>0.1609</td>\n",
              "      <td>0.1582</td>\n",
              "      <td>0.2238</td>\n",
              "      <td>0.0645</td>\n",
              "      <td>0.0660</td>\n",
              "      <td>0.2273</td>\n",
              "      <td>0.3100</td>\n",
              "      <td>0.2999</td>\n",
              "      <td>0.5078</td>\n",
              "      <td>0.4797</td>\n",
              "      <td>0.5783</td>\n",
              "      <td>0.5071</td>\n",
              "      <td>0.4328</td>\n",
              "      <td>0.5550</td>\n",
              "      <td>0.6711</td>\n",
              "      <td>0.6415</td>\n",
              "      <td>0.7104</td>\n",
              "      <td>0.8080</td>\n",
              "      <td>0.6791</td>\n",
              "      <td>0.3857</td>\n",
              "      <td>0.1307</td>\n",
              "      <td>0.2604</td>\n",
              "      <td>0.5121</td>\n",
              "      <td>0.7547</td>\n",
              "      <td>0.8537</td>\n",
              "      <td>0.8507</td>\n",
              "      <td>0.6692</td>\n",
              "      <td>0.6097</td>\n",
              "      <td>0.4943</td>\n",
              "      <td>0.2744</td>\n",
              "      <td>0.0510</td>\n",
              "      <td>0.2834</td>\n",
              "      <td>0.2825</td>\n",
              "      <td>0.4256</td>\n",
              "      <td>0.2641</td>\n",
              "      <td>0.1386</td>\n",
              "      <td>0.1051</td>\n",
              "      <td>0.1343</td>\n",
              "      <td>0.0383</td>\n",
              "      <td>0.0324</td>\n",
              "      <td>0.0232</td>\n",
              "      <td>0.0027</td>\n",
              "      <td>0.0065</td>\n",
              "      <td>0.0159</td>\n",
              "      <td>0.0072</td>\n",
              "      <td>0.0167</td>\n",
              "      <td>0.0180</td>\n",
              "      <td>0.0084</td>\n",
              "      <td>0.0090</td>\n",
              "      <td>0.0032</td>\n",
              "      <td>R</td>\n",
              "    </tr>\n",
              "    <tr>\n",
              "      <th>1</th>\n",
              "      <td>0.0453</td>\n",
              "      <td>0.0523</td>\n",
              "      <td>0.0843</td>\n",
              "      <td>0.0689</td>\n",
              "      <td>0.1183</td>\n",
              "      <td>0.2583</td>\n",
              "      <td>0.2156</td>\n",
              "      <td>0.3481</td>\n",
              "      <td>0.3337</td>\n",
              "      <td>0.2872</td>\n",
              "      <td>0.4918</td>\n",
              "      <td>0.6552</td>\n",
              "      <td>0.6919</td>\n",
              "      <td>0.7797</td>\n",
              "      <td>0.7464</td>\n",
              "      <td>0.9444</td>\n",
              "      <td>1.0000</td>\n",
              "      <td>0.8874</td>\n",
              "      <td>0.8024</td>\n",
              "      <td>0.7818</td>\n",
              "      <td>0.5212</td>\n",
              "      <td>0.4052</td>\n",
              "      <td>0.3957</td>\n",
              "      <td>0.3914</td>\n",
              "      <td>0.3250</td>\n",
              "      <td>0.3200</td>\n",
              "      <td>0.3271</td>\n",
              "      <td>0.2767</td>\n",
              "      <td>0.4423</td>\n",
              "      <td>0.2028</td>\n",
              "      <td>0.3788</td>\n",
              "      <td>0.2947</td>\n",
              "      <td>0.1984</td>\n",
              "      <td>0.2341</td>\n",
              "      <td>0.1306</td>\n",
              "      <td>0.4182</td>\n",
              "      <td>0.3835</td>\n",
              "      <td>0.1057</td>\n",
              "      <td>0.1840</td>\n",
              "      <td>0.1970</td>\n",
              "      <td>0.1674</td>\n",
              "      <td>0.0583</td>\n",
              "      <td>0.1401</td>\n",
              "      <td>0.1628</td>\n",
              "      <td>0.0621</td>\n",
              "      <td>0.0203</td>\n",
              "      <td>0.0530</td>\n",
              "      <td>0.0742</td>\n",
              "      <td>0.0409</td>\n",
              "      <td>0.0061</td>\n",
              "      <td>0.0125</td>\n",
              "      <td>0.0084</td>\n",
              "      <td>0.0089</td>\n",
              "      <td>0.0048</td>\n",
              "      <td>0.0094</td>\n",
              "      <td>0.0191</td>\n",
              "      <td>0.0140</td>\n",
              "      <td>0.0049</td>\n",
              "      <td>0.0052</td>\n",
              "      <td>0.0044</td>\n",
              "      <td>R</td>\n",
              "    </tr>\n",
              "    <tr>\n",
              "      <th>2</th>\n",
              "      <td>0.0262</td>\n",
              "      <td>0.0582</td>\n",
              "      <td>0.1099</td>\n",
              "      <td>0.1083</td>\n",
              "      <td>0.0974</td>\n",
              "      <td>0.2280</td>\n",
              "      <td>0.2431</td>\n",
              "      <td>0.3771</td>\n",
              "      <td>0.5598</td>\n",
              "      <td>0.6194</td>\n",
              "      <td>0.6333</td>\n",
              "      <td>0.7060</td>\n",
              "      <td>0.5544</td>\n",
              "      <td>0.5320</td>\n",
              "      <td>0.6479</td>\n",
              "      <td>0.6931</td>\n",
              "      <td>0.6759</td>\n",
              "      <td>0.7551</td>\n",
              "      <td>0.8929</td>\n",
              "      <td>0.8619</td>\n",
              "      <td>0.7974</td>\n",
              "      <td>0.6737</td>\n",
              "      <td>0.4293</td>\n",
              "      <td>0.3648</td>\n",
              "      <td>0.5331</td>\n",
              "      <td>0.2413</td>\n",
              "      <td>0.5070</td>\n",
              "      <td>0.8533</td>\n",
              "      <td>0.6036</td>\n",
              "      <td>0.8514</td>\n",
              "      <td>0.8512</td>\n",
              "      <td>0.5045</td>\n",
              "      <td>0.1862</td>\n",
              "      <td>0.2709</td>\n",
              "      <td>0.4232</td>\n",
              "      <td>0.3043</td>\n",
              "      <td>0.6116</td>\n",
              "      <td>0.6756</td>\n",
              "      <td>0.5375</td>\n",
              "      <td>0.4719</td>\n",
              "      <td>0.4647</td>\n",
              "      <td>0.2587</td>\n",
              "      <td>0.2129</td>\n",
              "      <td>0.2222</td>\n",
              "      <td>0.2111</td>\n",
              "      <td>0.0176</td>\n",
              "      <td>0.1348</td>\n",
              "      <td>0.0744</td>\n",
              "      <td>0.0130</td>\n",
              "      <td>0.0106</td>\n",
              "      <td>0.0033</td>\n",
              "      <td>0.0232</td>\n",
              "      <td>0.0166</td>\n",
              "      <td>0.0095</td>\n",
              "      <td>0.0180</td>\n",
              "      <td>0.0244</td>\n",
              "      <td>0.0316</td>\n",
              "      <td>0.0164</td>\n",
              "      <td>0.0095</td>\n",
              "      <td>0.0078</td>\n",
              "      <td>R</td>\n",
              "    </tr>\n",
              "  </tbody>\n",
              "</table>\n",
              "</div>\n",
              "      <button class=\"colab-df-convert\" onclick=\"convertToInteractive('df-2193a823-bda4-4907-b2a5-e3722cf4b6ac')\"\n",
              "              title=\"Convert this dataframe to an interactive table.\"\n",
              "              style=\"display:none;\">\n",
              "        \n",
              "  <svg xmlns=\"http://www.w3.org/2000/svg\" height=\"24px\"viewBox=\"0 0 24 24\"\n",
              "       width=\"24px\">\n",
              "    <path d=\"M0 0h24v24H0V0z\" fill=\"none\"/>\n",
              "    <path d=\"M18.56 5.44l.94 2.06.94-2.06 2.06-.94-2.06-.94-.94-2.06-.94 2.06-2.06.94zm-11 1L8.5 8.5l.94-2.06 2.06-.94-2.06-.94L8.5 2.5l-.94 2.06-2.06.94zm10 10l.94 2.06.94-2.06 2.06-.94-2.06-.94-.94-2.06-.94 2.06-2.06.94z\"/><path d=\"M17.41 7.96l-1.37-1.37c-.4-.4-.92-.59-1.43-.59-.52 0-1.04.2-1.43.59L10.3 9.45l-7.72 7.72c-.78.78-.78 2.05 0 2.83L4 21.41c.39.39.9.59 1.41.59.51 0 1.02-.2 1.41-.59l7.78-7.78 2.81-2.81c.8-.78.8-2.07 0-2.86zM5.41 20L4 18.59l7.72-7.72 1.47 1.35L5.41 20z\"/>\n",
              "  </svg>\n",
              "      </button>\n",
              "      \n",
              "  <style>\n",
              "    .colab-df-container {\n",
              "      display:flex;\n",
              "      flex-wrap:wrap;\n",
              "      gap: 12px;\n",
              "    }\n",
              "\n",
              "    .colab-df-convert {\n",
              "      background-color: #E8F0FE;\n",
              "      border: none;\n",
              "      border-radius: 50%;\n",
              "      cursor: pointer;\n",
              "      display: none;\n",
              "      fill: #1967D2;\n",
              "      height: 32px;\n",
              "      padding: 0 0 0 0;\n",
              "      width: 32px;\n",
              "    }\n",
              "\n",
              "    .colab-df-convert:hover {\n",
              "      background-color: #E2EBFA;\n",
              "      box-shadow: 0px 1px 2px rgba(60, 64, 67, 0.3), 0px 1px 3px 1px rgba(60, 64, 67, 0.15);\n",
              "      fill: #174EA6;\n",
              "    }\n",
              "\n",
              "    [theme=dark] .colab-df-convert {\n",
              "      background-color: #3B4455;\n",
              "      fill: #D2E3FC;\n",
              "    }\n",
              "\n",
              "    [theme=dark] .colab-df-convert:hover {\n",
              "      background-color: #434B5C;\n",
              "      box-shadow: 0px 1px 3px 1px rgba(0, 0, 0, 0.15);\n",
              "      filter: drop-shadow(0px 1px 2px rgba(0, 0, 0, 0.3));\n",
              "      fill: #FFFFFF;\n",
              "    }\n",
              "  </style>\n",
              "\n",
              "      <script>\n",
              "        const buttonEl =\n",
              "          document.querySelector('#df-2193a823-bda4-4907-b2a5-e3722cf4b6ac button.colab-df-convert');\n",
              "        buttonEl.style.display =\n",
              "          google.colab.kernel.accessAllowed ? 'block' : 'none';\n",
              "\n",
              "        async function convertToInteractive(key) {\n",
              "          const element = document.querySelector('#df-2193a823-bda4-4907-b2a5-e3722cf4b6ac');\n",
              "          const dataTable =\n",
              "            await google.colab.kernel.invokeFunction('convertToInteractive',\n",
              "                                                     [key], {});\n",
              "          if (!dataTable) return;\n",
              "\n",
              "          const docLinkHtml = 'Like what you see? Visit the ' +\n",
              "            '<a target=\"_blank\" href=https://colab.research.google.com/notebooks/data_table.ipynb>data table notebook</a>'\n",
              "            + ' to learn more about interactive tables.';\n",
              "          element.innerHTML = '';\n",
              "          dataTable['output_type'] = 'display_data';\n",
              "          await google.colab.output.renderOutput(dataTable, element);\n",
              "          const docLink = document.createElement('div');\n",
              "          docLink.innerHTML = docLinkHtml;\n",
              "          element.appendChild(docLink);\n",
              "        }\n",
              "      </script>\n",
              "    </div>\n",
              "  </div>\n",
              "  "
            ],
            "text/plain": [
              "       0       1       2       3       4   ...      56      57      58      59  60\n",
              "0  0.0200  0.0371  0.0428  0.0207  0.0954  ...  0.0180  0.0084  0.0090  0.0032   R\n",
              "1  0.0453  0.0523  0.0843  0.0689  0.1183  ...  0.0140  0.0049  0.0052  0.0044   R\n",
              "2  0.0262  0.0582  0.1099  0.1083  0.0974  ...  0.0316  0.0164  0.0095  0.0078   R\n",
              "\n",
              "[3 rows x 61 columns]"
            ]
          },
          "metadata": {},
          "execution_count": 3
        }
      ]
    },
    {
      "cell_type": "code",
      "source": [
        "np.unique(df.values[:,-1], return_counts=True)"
      ],
      "metadata": {
        "colab": {
          "base_uri": "https://localhost:8080/"
        },
        "id": "Gf3LLiaP0m5S",
        "outputId": "eca26a28-8a7c-4525-cad0-3f9eb7a36cd6"
      },
      "execution_count": 4,
      "outputs": [
        {
          "output_type": "execute_result",
          "data": {
            "text/plain": [
              "(array(['M', 'R'], dtype=object), array([111,  97]))"
            ]
          },
          "metadata": {},
          "execution_count": 4
        }
      ]
    },
    {
      "cell_type": "code",
      "source": [
        "# X data: scaling\n",
        "from sklearn.preprocessing import StandardScaler\n",
        "X_scaled = StandardScaler().fit_transform(df.iloc[:,:-1].values)"
      ],
      "metadata": {
        "id": "AXIBSDrn3fo1"
      },
      "execution_count": 5,
      "outputs": []
    },
    {
      "cell_type": "code",
      "source": [
        "# Y data: label encoding\n",
        "from sklearn.preprocessing import LabelEncoder\n",
        "y_labeled = LabelEncoder().fit_transform(df.iloc[:,-1].values)"
      ],
      "metadata": {
        "id": "YeY2JdaP4C6S"
      },
      "execution_count": 6,
      "outputs": []
    },
    {
      "cell_type": "code",
      "source": [
        "from sklearn.model_selection import train_test_split\n",
        "X_train, X_test, y_train, y_test = train_test_split(\n",
        "    X_scaled, y_labeled, stratify=y_labeled, test_size=0.2, random_state=seed\n",
        ")\n",
        "X_train.shape, X_test.shape, y_train.shape, y_test.shape"
      ],
      "metadata": {
        "colab": {
          "base_uri": "https://localhost:8080/"
        },
        "id": "5xYRCTBY5dmO",
        "outputId": "d74b8336-7e06-4607-bbb6-73fa9f0552ce"
      },
      "execution_count": 7,
      "outputs": [
        {
          "output_type": "execute_result",
          "data": {
            "text/plain": [
              "((166, 60), (42, 60), (166,), (42,))"
            ]
          },
          "metadata": {},
          "execution_count": 7
        }
      ]
    },
    {
      "cell_type": "markdown",
      "source": [
        "### 모델 정의/설정/학습/평가"
      ],
      "metadata": {
        "id": "CGg0z9zp6x_w"
      }
    },
    {
      "cell_type": "code",
      "source": [
        "from tensorflow.keras.models import Sequential\n",
        "from tensorflow.keras.layers import Dense"
      ],
      "metadata": {
        "id": "aFcRsKBO6c5j"
      },
      "execution_count": 8,
      "outputs": []
    },
    {
      "cell_type": "markdown",
      "source": [
        "- 1. 은닉층: 2개"
      ],
      "metadata": {
        "id": "tBNVwkeh7RPp"
      }
    },
    {
      "cell_type": "code",
      "source": [
        "model1 = Sequential([\n",
        "    Dense(80, input_dim=60, activation='relu'),\n",
        "    Dense(12, activation='relu'),\n",
        "    Dense(1, activation='sigmoid')\n",
        "])\n",
        "model1.summary()"
      ],
      "metadata": {
        "colab": {
          "base_uri": "https://localhost:8080/"
        },
        "id": "WloFcuVW7Dhs",
        "outputId": "e32071be-879f-40d7-9b73-002ac5a4b3b6"
      },
      "execution_count": 9,
      "outputs": [
        {
          "output_type": "stream",
          "name": "stdout",
          "text": [
            "Model: \"sequential\"\n",
            "_________________________________________________________________\n",
            " Layer (type)                Output Shape              Param #   \n",
            "=================================================================\n",
            " dense (Dense)               (None, 80)                4880      \n",
            "                                                                 \n",
            " dense_1 (Dense)             (None, 12)                972       \n",
            "                                                                 \n",
            " dense_2 (Dense)             (None, 1)                 13        \n",
            "                                                                 \n",
            "=================================================================\n",
            "Total params: 5,865\n",
            "Trainable params: 5,865\n",
            "Non-trainable params: 0\n",
            "_________________________________________________________________\n"
          ]
        }
      ]
    },
    {
      "cell_type": "code",
      "source": [
        "model1.compile(optimizer='adam', loss='binary_crossentropy', metrics=['accuracy'])\n",
        "h1 = model1.fit(X_train, y_train, validation_split=0.2, epochs=200, batch_size=50, verbose=0)\n",
        "model1.evaluate(X_test, y_test)"
      ],
      "metadata": {
        "colab": {
          "base_uri": "https://localhost:8080/"
        },
        "id": "CJc2HOJx7yHD",
        "outputId": "309d89bd-ea3e-4cbb-bcfb-d615867b55e3"
      },
      "execution_count": 10,
      "outputs": [
        {
          "output_type": "stream",
          "name": "stdout",
          "text": [
            "2/2 [==============================] - 0s 9ms/step - loss: 0.3529 - accuracy: 0.9048\n"
          ]
        },
        {
          "output_type": "execute_result",
          "data": {
            "text/plain": [
              "[0.3528617322444916, 0.9047619104385376]"
            ]
          },
          "metadata": {},
          "execution_count": 10
        }
      ]
    },
    {
      "cell_type": "markdown",
      "source": [
        "- 2. 은닉층: 4개"
      ],
      "metadata": {
        "id": "33UiMXNn8nfP"
      }
    },
    {
      "cell_type": "code",
      "source": [
        "model2 = Sequential([\n",
        "    Dense(64, input_dim=60, activation='relu'),\n",
        "    Dense(30, activation='relu'),\n",
        "    Dense(12, activation='relu'),\n",
        "    Dense(4, activation='relu'),\n",
        "    Dense(1, activation='sigmoid')\n",
        "])\n",
        "model2.summary()"
      ],
      "metadata": {
        "colab": {
          "base_uri": "https://localhost:8080/"
        },
        "id": "4NlkvGrK8ZZX",
        "outputId": "5cf48afb-2380-47c7-9518-03ae4c596f39"
      },
      "execution_count": 11,
      "outputs": [
        {
          "output_type": "stream",
          "name": "stdout",
          "text": [
            "Model: \"sequential_1\"\n",
            "_________________________________________________________________\n",
            " Layer (type)                Output Shape              Param #   \n",
            "=================================================================\n",
            " dense_3 (Dense)             (None, 64)                3904      \n",
            "                                                                 \n",
            " dense_4 (Dense)             (None, 30)                1950      \n",
            "                                                                 \n",
            " dense_5 (Dense)             (None, 12)                372       \n",
            "                                                                 \n",
            " dense_6 (Dense)             (None, 4)                 52        \n",
            "                                                                 \n",
            " dense_7 (Dense)             (None, 1)                 5         \n",
            "                                                                 \n",
            "=================================================================\n",
            "Total params: 6,283\n",
            "Trainable params: 6,283\n",
            "Non-trainable params: 0\n",
            "_________________________________________________________________\n"
          ]
        }
      ]
    },
    {
      "cell_type": "code",
      "source": [
        "model2.compile(optimizer='adam', loss='binary_crossentropy', metrics=['accuracy'])\n",
        "h2 = model2.fit(X_train, y_train, validation_split=0.2, epochs=200, batch_size=50, verbose=0)\n",
        "model2.evaluate(X_test, y_test)"
      ],
      "metadata": {
        "colab": {
          "base_uri": "https://localhost:8080/"
        },
        "id": "JBTIbKEn8-9C",
        "outputId": "bc58a69c-70da-45d2-ba65-7f7da58a981d"
      },
      "execution_count": 12,
      "outputs": [
        {
          "output_type": "stream",
          "name": "stdout",
          "text": [
            "2/2 [==============================] - 0s 9ms/step - loss: 0.5415 - accuracy: 0.8095\n"
          ]
        },
        {
          "output_type": "execute_result",
          "data": {
            "text/plain": [
              "[0.5415384769439697, 0.8095238208770752]"
            ]
          },
          "metadata": {},
          "execution_count": 12
        }
      ]
    },
    {
      "cell_type": "markdown",
      "source": [
        "- 3. 은닉층: 6개"
      ],
      "metadata": {
        "id": "-EnvgvpI9aoG"
      }
    },
    {
      "cell_type": "code",
      "source": [
        "model3 = Sequential([\n",
        "    Dense(64, input_dim=60, activation='relu'),\n",
        "    Dense(40, activation='relu'),\n",
        "    Dense(28, activation='relu'),\n",
        "    Dense(16, activation='relu'),\n",
        "    Dense(8, activation='relu'),\n",
        "    Dense(4, activation='relu'),\n",
        "    Dense(1, activation='sigmoid')\n",
        "])\n",
        "model3.summary()"
      ],
      "metadata": {
        "colab": {
          "base_uri": "https://localhost:8080/"
        },
        "id": "w0RWw4H89P82",
        "outputId": "c00f833a-31cb-490c-e0c0-adcfb2b63bed"
      },
      "execution_count": 13,
      "outputs": [
        {
          "output_type": "stream",
          "name": "stdout",
          "text": [
            "Model: \"sequential_2\"\n",
            "_________________________________________________________________\n",
            " Layer (type)                Output Shape              Param #   \n",
            "=================================================================\n",
            " dense_8 (Dense)             (None, 64)                3904      \n",
            "                                                                 \n",
            " dense_9 (Dense)             (None, 40)                2600      \n",
            "                                                                 \n",
            " dense_10 (Dense)            (None, 28)                1148      \n",
            "                                                                 \n",
            " dense_11 (Dense)            (None, 16)                464       \n",
            "                                                                 \n",
            " dense_12 (Dense)            (None, 8)                 136       \n",
            "                                                                 \n",
            " dense_13 (Dense)            (None, 4)                 36        \n",
            "                                                                 \n",
            " dense_14 (Dense)            (None, 1)                 5         \n",
            "                                                                 \n",
            "=================================================================\n",
            "Total params: 8,293\n",
            "Trainable params: 8,293\n",
            "Non-trainable params: 0\n",
            "_________________________________________________________________\n"
          ]
        }
      ]
    },
    {
      "cell_type": "code",
      "source": [
        "model3.compile(optimizer='adam', loss='binary_crossentropy', metrics=['accuracy'])\n",
        "h3 = model3.fit(X_train, y_train, validation_split=0.2, epochs=200, batch_size=50, verbose=0)\n",
        "model3.evaluate(X_test, y_test)"
      ],
      "metadata": {
        "colab": {
          "base_uri": "https://localhost:8080/"
        },
        "id": "SsDuzG_u93Ye",
        "outputId": "7b53822d-bef8-497b-863d-60118ea4e3a3"
      },
      "execution_count": 14,
      "outputs": [
        {
          "output_type": "stream",
          "name": "stdout",
          "text": [
            "2/2 [==============================] - 0s 7ms/step - loss: 0.5902 - accuracy: 0.8333\n"
          ]
        },
        {
          "output_type": "execute_result",
          "data": {
            "text/plain": [
              "[0.5901774168014526, 0.8333333134651184]"
            ]
          },
          "metadata": {},
          "execution_count": 14
        }
      ]
    },
    {
      "cell_type": "markdown",
      "source": [
        "- model1을 그대로 사용하는데, epoch 횟수를 늘린다."
      ],
      "metadata": {
        "id": "nvXJEwHe-YfT"
      }
    },
    {
      "cell_type": "code",
      "source": [
        "model = Sequential([\n",
        "    Dense(80, input_dim=60, activation='relu'),\n",
        "    Dense(12, activation='relu'),\n",
        "    Dense(1, activation='sigmoid')\n",
        "])\n",
        "model.summary()"
      ],
      "metadata": {
        "colab": {
          "base_uri": "https://localhost:8080/"
        },
        "id": "S1vVxtF59_R0",
        "outputId": "858fef2b-bdd7-4273-debf-dcd81011a622"
      },
      "execution_count": 22,
      "outputs": [
        {
          "output_type": "stream",
          "name": "stdout",
          "text": [
            "Model: \"sequential_4\"\n",
            "_________________________________________________________________\n",
            " Layer (type)                Output Shape              Param #   \n",
            "=================================================================\n",
            " dense_18 (Dense)            (None, 80)                4880      \n",
            "                                                                 \n",
            " dense_19 (Dense)            (None, 12)                972       \n",
            "                                                                 \n",
            " dense_20 (Dense)            (None, 1)                 13        \n",
            "                                                                 \n",
            "=================================================================\n",
            "Total params: 5,865\n",
            "Trainable params: 5,865\n",
            "Non-trainable params: 0\n",
            "_________________________________________________________________\n"
          ]
        }
      ]
    },
    {
      "cell_type": "code",
      "source": [
        "model.compile(optimizer='adam', loss='binary_crossentropy', metrics=['accuracy'])\n",
        "hist = model.fit(X_train, y_train, validation_split=0.2, epochs=1000, batch_size=50, verbose=0)\n",
        "model.evaluate(X_test, y_test)"
      ],
      "metadata": {
        "colab": {
          "base_uri": "https://localhost:8080/"
        },
        "id": "xv-fNqBj-p9x",
        "outputId": "afc64af4-05f3-4b1b-ca78-7c781772e5c8"
      },
      "execution_count": 23,
      "outputs": [
        {
          "output_type": "stream",
          "name": "stdout",
          "text": [
            "2/2 [==============================] - 0s 7ms/step - loss: 0.6139 - accuracy: 0.8333\n"
          ]
        },
        {
          "output_type": "execute_result",
          "data": {
            "text/plain": [
              "[0.6138607859611511, 0.8333333134651184]"
            ]
          },
          "metadata": {},
          "execution_count": 23
        }
      ]
    },
    {
      "cell_type": "code",
      "source": [
        "y_acc = hist.history['accuracy'][:200]\n",
        "y_vloss = hist.history['val_loss'][:200]\n",
        "xs = np.arange(1,len(y_acc)+1)"
      ],
      "metadata": {
        "id": "NgzviNiC-2qN"
      },
      "execution_count": 27,
      "outputs": []
    },
    {
      "cell_type": "code",
      "source": [
        "import matplotlib.pyplot as plt\n",
        "plt.figure(figsize=(12,8))\n",
        "plt.plot(xs, y_acc, ms=5, label='train accuracy')\n",
        "plt.plot(xs, y_vloss, ms=5, label='validation loss')\n",
        "plt.legend()\n",
        "plt.grid()\n",
        "plt.xlabel('Epoch')\n",
        "plt.show()"
      ],
      "metadata": {
        "colab": {
          "base_uri": "https://localhost:8080/",
          "height": 497
        },
        "id": "wMpO55no_UWb",
        "outputId": "cf09f3f5-4bc8-41c4-f562-73308a6b91f3"
      },
      "execution_count": 28,
      "outputs": [
        {
          "output_type": "display_data",
          "data": {
            "image/png": "[encoded data removed]",
            "text/plain": [
              "<Figure size 864x576 with 1 Axes>"
            ]
          },
          "metadata": {
            "needs_background": "light"
          }
        }
      ]
    },
    {
      "cell_type": "markdown",
      "source": [
        "- 모델 저장조건 설정"
      ],
      "metadata": {
        "id": "GqzS7jyGT8_y"
      }
    },
    {
      "cell_type": "code",
      "source": [
        "from tensorflow.keras.callbacks import ModelCheckpoint"
      ],
      "metadata": {
        "id": "CFQmO3ltSuqq"
      },
      "execution_count": 29,
      "outputs": []
    },
    {
      "cell_type": "code",
      "source": [
        "import os\n",
        "if not os.path.exists('model'):\n",
        "    os.mkdir('model')"
      ],
      "metadata": {
        "id": "4hGdLp6gULZo"
      },
      "execution_count": 34,
      "outputs": []
    },
    {
      "cell_type": "code",
      "source": [
        "model_path = 'model/sonar.h5'\n",
        "checkpoint = ModelCheckpoint(\n",
        "    model_path, monitor='val_loss', verbose=1, save_best_only=True\n",
        ")"
      ],
      "metadata": {
        "id": "An57_M4EUzEH"
      },
      "execution_count": 35,
      "outputs": []
    },
    {
      "cell_type": "code",
      "source": [
        "model = Sequential([\n",
        "    Dense(80, input_dim=60, activation='relu'),\n",
        "    Dense(12, activation='relu'),\n",
        "    Dense(1, activation='sigmoid')\n",
        "])\n",
        "model.summary()"
      ],
      "metadata": {
        "colab": {
          "base_uri": "https://localhost:8080/"
        },
        "id": "eLs6looHVeWW",
        "outputId": "4161f480-6733-4a91-890e-fc0c05abf170"
      },
      "execution_count": 41,
      "outputs": [
        {
          "output_type": "stream",
          "name": "stdout",
          "text": [
            "Model: \"sequential_6\"\n",
            "_________________________________________________________________\n",
            " Layer (type)                Output Shape              Param #   \n",
            "=================================================================\n",
            " dense_24 (Dense)            (None, 80)                4880      \n",
            "                                                                 \n",
            " dense_25 (Dense)            (None, 12)                972       \n",
            "                                                                 \n",
            " dense_26 (Dense)            (None, 1)                 13        \n",
            "                                                                 \n",
            "=================================================================\n",
            "Total params: 5,865\n",
            "Trainable params: 5,865\n",
            "Non-trainable params: 0\n",
            "_________________________________________________________________\n"
          ]
        }
      ]
    },
    {
      "cell_type": "code",
      "source": [
        "model.compile(optimizer='adam', loss='binary_crossentropy', metrics=['accuracy'])\n",
        "hist = model.fit(\n",
        "    X_train, y_train, validation_split=0.2, \n",
        "    epochs=400, batch_size=50, verbose=0,\n",
        "    callbacks=[checkpoint]\n",
        ")"
      ],
      "metadata": {
        "id": "6Fxkdc-DVuIl"
      },
      "execution_count": 42,
      "outputs": []
    },
    {
      "cell_type": "code",
      "source": [
        "y_acc = hist.history['accuracy']\n",
        "y_vloss = hist.history['val_loss']\n",
        "xs = np.arange(1,len(y_acc)+1)"
      ],
      "metadata": {
        "id": "oEFRX4UeWXFQ"
      },
      "execution_count": 43,
      "outputs": []
    },
    {
      "cell_type": "code",
      "source": [
        "plt.figure(figsize=(12,8))\n",
        "plt.plot(xs, y_acc, ms=5, label='train accuracy')\n",
        "plt.plot(xs, y_vloss, ms=5, label='validation loss')\n",
        "plt.legend()\n",
        "plt.grid()\n",
        "plt.xlabel('Epoch')\n",
        "plt.show()"
      ],
      "metadata": {
        "colab": {
          "base_uri": "https://localhost:8080/",
          "height": 497
        },
        "id": "IK1lHk1qWHYP",
        "outputId": "080b35aa-e12e-4c85-b9a2-a81cec566339"
      },
      "execution_count": 44,
      "outputs": [
        {
          "output_type": "display_data",
          "data": {
            "image/png": "[encoded data removed]",
            "text/plain": [
              "<Figure size 864x576 with 1 Axes>"
            ]
          },
          "metadata": {
            "needs_background": "light"
          }
        }
      ]
    },
    {
      "cell_type": "code",
      "source": [
        "from tensorflow.keras.models import load_model\n",
        "best_model = load_model(model_path)\n",
        "best_model.evaluate(X_test, y_test)"
      ],
      "metadata": {
        "colab": {
          "base_uri": "https://localhost:8080/"
        },
        "id": "K5R6xN5uWgKg",
        "outputId": "f1a28e5a-6c35-4492-f309-5d6103b080e3"
      },
      "execution_count": 45,
      "outputs": [
        {
          "output_type": "stream",
          "name": "stdout",
          "text": [
            "2/2 [==============================] - 0s 7ms/step - loss: 0.3861 - accuracy: 0.8571\n"
          ]
        },
        {
          "output_type": "execute_result",
          "data": {
            "text/plain": [
              "[0.3861370086669922, 0.8571428656578064]"
            ]
          },
          "metadata": {},
          "execution_count": 45
        }
      ]
    },
    {
      "cell_type": "markdown",
      "source": [
        "- 조기 종료시점 설정"
      ],
      "metadata": {
        "id": "zDy2Q5V9Yort"
      }
    },
    {
      "cell_type": "code",
      "source": [
        "from tensorflow.keras.callbacks import EarlyStopping\n",
        "\n",
        "early_stopping = EarlyStopping(patience=30)"
      ],
      "metadata": {
        "id": "GCoWn4vhWhU-"
      },
      "execution_count": 46,
      "outputs": []
    },
    {
      "cell_type": "code",
      "source": [
        "model = Sequential([\n",
        "    Dense(80, input_dim=60, activation='relu'),\n",
        "    Dense(12, activation='relu'),\n",
        "    Dense(1, activation='sigmoid')\n",
        "])\n",
        "model.summary()"
      ],
      "metadata": {
        "colab": {
          "base_uri": "https://localhost:8080/"
        },
        "id": "hbweIdXkY5jx",
        "outputId": "0d2c3404-5783-46a1-81ae-52c1a8ffeddb"
      },
      "execution_count": 47,
      "outputs": [
        {
          "output_type": "stream",
          "name": "stdout",
          "text": [
            "Model: \"sequential_7\"\n",
            "_________________________________________________________________\n",
            " Layer (type)                Output Shape              Param #   \n",
            "=================================================================\n",
            " dense_27 (Dense)            (None, 80)                4880      \n",
            "                                                                 \n",
            " dense_28 (Dense)            (None, 12)                972       \n",
            "                                                                 \n",
            " dense_29 (Dense)            (None, 1)                 13        \n",
            "                                                                 \n",
            "=================================================================\n",
            "Total params: 5,865\n",
            "Trainable params: 5,865\n",
            "Non-trainable params: 0\n",
            "_________________________________________________________________\n"
          ]
        }
      ]
    },
    {
      "cell_type": "code",
      "source": [
        "model.compile(optimizer='adam', loss='binary_crossentropy', metrics=['accuracy'])\n",
        "hist = model.fit(\n",
        "    X_train, y_train, validation_split=0.2, \n",
        "    epochs=400, batch_size=50, verbose=1,\n",
        "    callbacks=[checkpoint, early_stopping]\n",
        ")"
      ],
      "metadata": {
        "colab": {
          "base_uri": "https://localhost:8080/"
        },
        "id": "maNxrWK4ZCI6",
        "outputId": "e4ccb33d-cd26-42e5-bedf-d52a551250d5"
      },
      "execution_count": 48,
      "outputs": [
        {
          "output_type": "stream",
          "name": "stdout",
          "text": [
            "Epoch 1/400\n",
            "3/3 [==============================] - 1s 81ms/step - loss: 0.7462 - accuracy: 0.5000 - val_loss: 0.6989 - val_accuracy: 0.5588\n",
            "Epoch 2/400\n",
            "3/3 [==============================] - 0s 13ms/step - loss: 0.6719 - accuracy: 0.5682 - val_loss: 0.6516 - val_accuracy: 0.6471\n",
            "Epoch 3/400\n",
            "3/3 [==============================] - 0s 16ms/step - loss: 0.6124 - accuracy: 0.6894 - val_loss: 0.6147 - val_accuracy: 0.6471\n",
            "Epoch 4/400\n",
            "3/3 [==============================] - 0s 14ms/step - loss: 0.5698 - accuracy: 0.7424 - val_loss: 0.5899 - val_accuracy: 0.7059\n",
            "Epoch 5/400\n",
            "3/3 [==============================] - 0s 13ms/step - loss: 0.5344 - accuracy: 0.8030 - val_loss: 0.5689 - val_accuracy: 0.7353\n",
            "Epoch 6/400\n",
            "3/3 [==============================] - 0s 13ms/step - loss: 0.5027 - accuracy: 0.8258 - val_loss: 0.5476 - val_accuracy: 0.7353\n",
            "Epoch 7/400\n",
            "3/3 [==============================] - 0s 14ms/step - loss: 0.4727 - accuracy: 0.8106 - val_loss: 0.5273 - val_accuracy: 0.7941\n",
            "Epoch 8/400\n",
            "3/3 [==============================] - 0s 13ms/step - loss: 0.4458 - accuracy: 0.8561 - val_loss: 0.5085 - val_accuracy: 0.7941\n",
            "Epoch 9/400\n",
            "3/3 [==============================] - 0s 16ms/step - loss: 0.4189 - accuracy: 0.8561 - val_loss: 0.4927 - val_accuracy: 0.7941\n",
            "Epoch 10/400\n",
            "3/3 [==============================] - 0s 16ms/step - loss: 0.3928 - accuracy: 0.8788 - val_loss: 0.4782 - val_accuracy: 0.7647\n",
            "Epoch 11/400\n",
            "3/3 [==============================] - 0s 24ms/step - loss: 0.3681 - accuracy: 0.8939 - val_loss: 0.4646 - val_accuracy: 0.7647\n",
            "Epoch 12/400\n",
            "3/3 [==============================] - 0s 16ms/step - loss: 0.3454 - accuracy: 0.9091 - val_loss: 0.4530 - val_accuracy: 0.7647\n",
            "Epoch 13/400\n",
            "3/3 [==============================] - 0s 18ms/step - loss: 0.3249 - accuracy: 0.9091 - val_loss: 0.4416 - val_accuracy: 0.7647\n",
            "Epoch 14/400\n",
            "3/3 [==============================] - 0s 20ms/step - loss: 0.3057 - accuracy: 0.9091 - val_loss: 0.4302 - val_accuracy: 0.7647\n",
            "Epoch 15/400\n",
            "3/3 [==============================] - 0s 23ms/step - loss: 0.2879 - accuracy: 0.9167 - val_loss: 0.4213 - val_accuracy: 0.7941\n",
            "Epoch 16/400\n",
            "3/3 [==============================] - 0s 18ms/step - loss: 0.2697 - accuracy: 0.9394 - val_loss: 0.4130 - val_accuracy: 0.7941\n",
            "Epoch 17/400\n",
            "3/3 [==============================] - 0s 19ms/step - loss: 0.2537 - accuracy: 0.9545 - val_loss: 0.4057 - val_accuracy: 0.7941\n",
            "Epoch 18/400\n",
            "3/3 [==============================] - 0s 28ms/step - loss: 0.2381 - accuracy: 0.9545 - val_loss: 0.3986 - val_accuracy: 0.7941\n",
            "Epoch 19/400\n",
            "3/3 [==============================] - 0s 23ms/step - loss: 0.2236 - accuracy: 0.9697 - val_loss: 0.3944 - val_accuracy: 0.7941\n",
            "Epoch 20/400\n",
            "3/3 [==============================] - 0s 21ms/step - loss: 0.2099 - accuracy: 0.9697 - val_loss: 0.3906 - val_accuracy: 0.7941\n",
            "Epoch 21/400\n",
            "3/3 [==============================] - 0s 24ms/step - loss: 0.1974 - accuracy: 0.9773 - val_loss: 0.3873 - val_accuracy: 0.7941\n",
            "Epoch 22/400\n",
            "3/3 [==============================] - 0s 20ms/step - loss: 0.1854 - accuracy: 0.9773 - val_loss: 0.3849 - val_accuracy: 0.7941\n",
            "Epoch 23/400\n",
            "3/3 [==============================] - 0s 27ms/step - loss: 0.1745 - accuracy: 0.9773 - val_loss: 0.3824 - val_accuracy: 0.7941\n",
            "Epoch 24/400\n",
            "3/3 [==============================] - 0s 19ms/step - loss: 0.1640 - accuracy: 0.9848 - val_loss: 0.3794 - val_accuracy: 0.7941\n",
            "Epoch 25/400\n",
            "3/3 [==============================] - 0s 17ms/step - loss: 0.1539 - accuracy: 0.9924 - val_loss: 0.3750 - val_accuracy: 0.7941\n",
            "Epoch 26/400\n",
            "3/3 [==============================] - 0s 20ms/step - loss: 0.1449 - accuracy: 1.0000 - val_loss: 0.3699 - val_accuracy: 0.7941\n",
            "Epoch 27/400\n",
            "3/3 [==============================] - 0s 19ms/step - loss: 0.1364 - accuracy: 1.0000 - val_loss: 0.3681 - val_accuracy: 0.7941\n",
            "Epoch 28/400\n",
            "3/3 [==============================] - 0s 27ms/step - loss: 0.1287 - accuracy: 0.9924 - val_loss: 0.3660 - val_accuracy: 0.7941\n",
            "Epoch 29/400\n",
            "3/3 [==============================] - 0s 19ms/step - loss: 0.1209 - accuracy: 0.9924 - val_loss: 0.3626 - val_accuracy: 0.7941\n",
            "Epoch 30/400\n",
            "3/3 [==============================] - 0s 24ms/step - loss: 0.1138 - accuracy: 1.0000 - val_loss: 0.3598 - val_accuracy: 0.7941\n",
            "Epoch 31/400\n",
            "3/3 [==============================] - 0s 15ms/step - loss: 0.1077 - accuracy: 1.0000 - val_loss: 0.3553 - val_accuracy: 0.7941\n",
            "Epoch 32/400\n",
            "3/3 [==============================] - 0s 17ms/step - loss: 0.1012 - accuracy: 1.0000 - val_loss: 0.3533 - val_accuracy: 0.7941\n",
            "Epoch 33/400\n",
            "3/3 [==============================] - 0s 16ms/step - loss: 0.0953 - accuracy: 1.0000 - val_loss: 0.3529 - val_accuracy: 0.7941\n",
            "Epoch 34/400\n",
            "3/3 [==============================] - 0s 15ms/step - loss: 0.0900 - accuracy: 1.0000 - val_loss: 0.3522 - val_accuracy: 0.7941\n",
            "Epoch 35/400\n",
            "3/3 [==============================] - 0s 14ms/step - loss: 0.0851 - accuracy: 1.0000 - val_loss: 0.3499 - val_accuracy: 0.7941\n",
            "Epoch 36/400\n",
            "3/3 [==============================] - 0s 18ms/step - loss: 0.0805 - accuracy: 1.0000 - val_loss: 0.3495 - val_accuracy: 0.7941\n",
            "Epoch 37/400\n",
            "3/3 [==============================] - 0s 15ms/step - loss: 0.0762 - accuracy: 1.0000 - val_loss: 0.3470 - val_accuracy: 0.7941\n",
            "Epoch 38/400\n",
            "3/3 [==============================] - 0s 16ms/step - loss: 0.0719 - accuracy: 1.0000 - val_loss: 0.3448 - val_accuracy: 0.7941\n",
            "Epoch 39/400\n",
            "3/3 [==============================] - 0s 17ms/step - loss: 0.0680 - accuracy: 1.0000 - val_loss: 0.3427 - val_accuracy: 0.7941\n",
            "Epoch 40/400\n",
            "3/3 [==============================] - 0s 22ms/step - loss: 0.0645 - accuracy: 1.0000 - val_loss: 0.3415 - val_accuracy: 0.7941\n",
            "Epoch 41/400\n",
            "3/3 [==============================] - 0s 20ms/step - loss: 0.0613 - accuracy: 1.0000 - val_loss: 0.3400 - val_accuracy: 0.8235\n",
            "Epoch 42/400\n",
            "3/3 [==============================] - 0s 15ms/step - loss: 0.0581 - accuracy: 1.0000 - val_loss: 0.3386 - val_accuracy: 0.8235\n",
            "Epoch 43/400\n",
            "3/3 [==============================] - 0s 17ms/step - loss: 0.0551 - accuracy: 1.0000 - val_loss: 0.3366 - val_accuracy: 0.8235\n",
            "Epoch 44/400\n",
            "3/3 [==============================] - 0s 16ms/step - loss: 0.0524 - accuracy: 1.0000 - val_loss: 0.3348 - val_accuracy: 0.8235\n",
            "Epoch 45/400\n",
            "3/3 [==============================] - 0s 16ms/step - loss: 0.0496 - accuracy: 1.0000 - val_loss: 0.3341 - val_accuracy: 0.8235\n",
            "Epoch 46/400\n",
            "3/3 [==============================] - 0s 16ms/step - loss: 0.0473 - accuracy: 1.0000 - val_loss: 0.3327 - val_accuracy: 0.8235\n",
            "Epoch 47/400\n",
            "3/3 [==============================] - 0s 15ms/step - loss: 0.0449 - accuracy: 1.0000 - val_loss: 0.3326 - val_accuracy: 0.8235\n",
            "Epoch 48/400\n",
            "3/3 [==============================] - 0s 16ms/step - loss: 0.0427 - accuracy: 1.0000 - val_loss: 0.3333 - val_accuracy: 0.8235\n",
            "Epoch 49/400\n",
            "3/3 [==============================] - 0s 17ms/step - loss: 0.0408 - accuracy: 1.0000 - val_loss: 0.3316 - val_accuracy: 0.8235\n",
            "Epoch 50/400\n",
            "3/3 [==============================] - 0s 15ms/step - loss: 0.0388 - accuracy: 1.0000 - val_loss: 0.3298 - val_accuracy: 0.8235\n",
            "Epoch 51/400\n",
            "3/3 [==============================] - 0s 15ms/step - loss: 0.0369 - accuracy: 1.0000 - val_loss: 0.3300 - val_accuracy: 0.8235\n",
            "Epoch 52/400\n",
            "3/3 [==============================] - 0s 19ms/step - loss: 0.0351 - accuracy: 1.0000 - val_loss: 0.3279 - val_accuracy: 0.8235\n",
            "Epoch 53/400\n",
            "3/3 [==============================] - 0s 15ms/step - loss: 0.0335 - accuracy: 1.0000 - val_loss: 0.3271 - val_accuracy: 0.8235\n",
            "Epoch 54/400\n",
            "3/3 [==============================] - 0s 22ms/step - loss: 0.0319 - accuracy: 1.0000 - val_loss: 0.3257 - val_accuracy: 0.8235\n",
            "Epoch 55/400\n",
            "3/3 [==============================] - 0s 15ms/step - loss: 0.0304 - accuracy: 1.0000 - val_loss: 0.3250 - val_accuracy: 0.8235\n",
            "Epoch 56/400\n",
            "3/3 [==============================] - 0s 16ms/step - loss: 0.0290 - accuracy: 1.0000 - val_loss: 0.3245 - val_accuracy: 0.8235\n",
            "Epoch 57/400\n",
            "3/3 [==============================] - 0s 16ms/step - loss: 0.0276 - accuracy: 1.0000 - val_loss: 0.3244 - val_accuracy: 0.8235\n",
            "Epoch 58/400\n",
            "3/3 [==============================] - 0s 16ms/step - loss: 0.0265 - accuracy: 1.0000 - val_loss: 0.3249 - val_accuracy: 0.8235\n",
            "Epoch 59/400\n",
            "3/3 [==============================] - 0s 18ms/step - loss: 0.0253 - accuracy: 1.0000 - val_loss: 0.3239 - val_accuracy: 0.8235\n",
            "Epoch 60/400\n",
            "3/3 [==============================] - 0s 20ms/step - loss: 0.0241 - accuracy: 1.0000 - val_loss: 0.3229 - val_accuracy: 0.8235\n",
            "Epoch 61/400\n",
            "3/3 [==============================] - 0s 18ms/step - loss: 0.0231 - accuracy: 1.0000 - val_loss: 0.3220 - val_accuracy: 0.8235\n",
            "Epoch 62/400\n",
            "3/3 [==============================] - 0s 18ms/step - loss: 0.0221 - accuracy: 1.0000 - val_loss: 0.3202 - val_accuracy: 0.8235\n",
            "Epoch 63/400\n",
            "3/3 [==============================] - 0s 20ms/step - loss: 0.0212 - accuracy: 1.0000 - val_loss: 0.3200 - val_accuracy: 0.8235\n",
            "Epoch 64/400\n",
            "3/3 [==============================] - 0s 18ms/step - loss: 0.0203 - accuracy: 1.0000 - val_loss: 0.3188 - val_accuracy: 0.8235\n",
            "Epoch 65/400\n",
            "3/3 [==============================] - 0s 15ms/step - loss: 0.0194 - accuracy: 1.0000 - val_loss: 0.3170 - val_accuracy: 0.8235\n",
            "Epoch 66/400\n",
            "3/3 [==============================] - 0s 18ms/step - loss: 0.0186 - accuracy: 1.0000 - val_loss: 0.3164 - val_accuracy: 0.8235\n",
            "Epoch 67/400\n",
            "3/3 [==============================] - 0s 17ms/step - loss: 0.0179 - accuracy: 1.0000 - val_loss: 0.3169 - val_accuracy: 0.8235\n",
            "Epoch 68/400\n",
            "3/3 [==============================] - 0s 18ms/step - loss: 0.0171 - accuracy: 1.0000 - val_loss: 0.3174 - val_accuracy: 0.8235\n",
            "Epoch 69/400\n",
            "3/3 [==============================] - 0s 17ms/step - loss: 0.0165 - accuracy: 1.0000 - val_loss: 0.3179 - val_accuracy: 0.8235\n",
            "Epoch 70/400\n",
            "3/3 [==============================] - 0s 16ms/step - loss: 0.0158 - accuracy: 1.0000 - val_loss: 0.3173 - val_accuracy: 0.8235\n",
            "Epoch 71/400\n",
            "3/3 [==============================] - 0s 17ms/step - loss: 0.0152 - accuracy: 1.0000 - val_loss: 0.3170 - val_accuracy: 0.8529\n",
            "Epoch 72/400\n",
            "3/3 [==============================] - 0s 17ms/step - loss: 0.0146 - accuracy: 1.0000 - val_loss: 0.3176 - val_accuracy: 0.8529\n",
            "Epoch 73/400\n",
            "3/3 [==============================] - 0s 18ms/step - loss: 0.0141 - accuracy: 1.0000 - val_loss: 0.3175 - val_accuracy: 0.8529\n",
            "Epoch 74/400\n",
            "3/3 [==============================] - 0s 16ms/step - loss: 0.0136 - accuracy: 1.0000 - val_loss: 0.3187 - val_accuracy: 0.8529\n",
            "Epoch 75/400\n",
            "3/3 [==============================] - 0s 26ms/step - loss: 0.0131 - accuracy: 1.0000 - val_loss: 0.3194 - val_accuracy: 0.8529\n",
            "Epoch 76/400\n",
            "3/3 [==============================] - 0s 22ms/step - loss: 0.0126 - accuracy: 1.0000 - val_loss: 0.3201 - val_accuracy: 0.8529\n",
            "Epoch 77/400\n",
            "3/3 [==============================] - 0s 19ms/step - loss: 0.0121 - accuracy: 1.0000 - val_loss: 0.3206 - val_accuracy: 0.8529\n",
            "Epoch 78/400\n",
            "3/3 [==============================] - 0s 16ms/step - loss: 0.0118 - accuracy: 1.0000 - val_loss: 0.3205 - val_accuracy: 0.8529\n",
            "Epoch 79/400\n",
            "3/3 [==============================] - 0s 18ms/step - loss: 0.0113 - accuracy: 1.0000 - val_loss: 0.3211 - val_accuracy: 0.8529\n",
            "Epoch 80/400\n",
            "3/3 [==============================] - 0s 16ms/step - loss: 0.0109 - accuracy: 1.0000 - val_loss: 0.3220 - val_accuracy: 0.8529\n",
            "Epoch 81/400\n",
            "3/3 [==============================] - 0s 17ms/step - loss: 0.0106 - accuracy: 1.0000 - val_loss: 0.3218 - val_accuracy: 0.8529\n",
            "Epoch 82/400\n",
            "3/3 [==============================] - 0s 15ms/step - loss: 0.0103 - accuracy: 1.0000 - val_loss: 0.3222 - val_accuracy: 0.8529\n",
            "Epoch 83/400\n",
            "3/3 [==============================] - 0s 16ms/step - loss: 0.0099 - accuracy: 1.0000 - val_loss: 0.3216 - val_accuracy: 0.8529\n",
            "Epoch 84/400\n",
            "3/3 [==============================] - 0s 18ms/step - loss: 0.0096 - accuracy: 1.0000 - val_loss: 0.3213 - val_accuracy: 0.8529\n",
            "Epoch 85/400\n",
            "3/3 [==============================] - 0s 17ms/step - loss: 0.0093 - accuracy: 1.0000 - val_loss: 0.3218 - val_accuracy: 0.8529\n",
            "Epoch 86/400\n",
            "3/3 [==============================] - 0s 16ms/step - loss: 0.0090 - accuracy: 1.0000 - val_loss: 0.3215 - val_accuracy: 0.8529\n",
            "Epoch 87/400\n",
            "3/3 [==============================] - 0s 17ms/step - loss: 0.0087 - accuracy: 1.0000 - val_loss: 0.3215 - val_accuracy: 0.8529\n",
            "Epoch 88/400\n",
            "3/3 [==============================] - 0s 20ms/step - loss: 0.0085 - accuracy: 1.0000 - val_loss: 0.3208 - val_accuracy: 0.8529\n",
            "Epoch 89/400\n",
            "3/3 [==============================] - 0s 20ms/step - loss: 0.0082 - accuracy: 1.0000 - val_loss: 0.3215 - val_accuracy: 0.8529\n",
            "Epoch 90/400\n",
            "3/3 [==============================] - 0s 19ms/step - loss: 0.0080 - accuracy: 1.0000 - val_loss: 0.3222 - val_accuracy: 0.8529\n",
            "Epoch 91/400\n",
            "3/3 [==============================] - 0s 19ms/step - loss: 0.0078 - accuracy: 1.0000 - val_loss: 0.3222 - val_accuracy: 0.8529\n",
            "Epoch 92/400\n",
            "3/3 [==============================] - 0s 19ms/step - loss: 0.0075 - accuracy: 1.0000 - val_loss: 0.3219 - val_accuracy: 0.8529\n",
            "Epoch 93/400\n",
            "3/3 [==============================] - 0s 16ms/step - loss: 0.0073 - accuracy: 1.0000 - val_loss: 0.3224 - val_accuracy: 0.8529\n",
            "Epoch 94/400\n",
            "3/3 [==============================] - 0s 18ms/step - loss: 0.0071 - accuracy: 1.0000 - val_loss: 0.3220 - val_accuracy: 0.8529\n",
            "Epoch 95/400\n",
            "3/3 [==============================] - 0s 16ms/step - loss: 0.0069 - accuracy: 1.0000 - val_loss: 0.3220 - val_accuracy: 0.8529\n",
            "Epoch 96/400\n",
            "3/3 [==============================] - 0s 19ms/step - loss: 0.0068 - accuracy: 1.0000 - val_loss: 0.3224 - val_accuracy: 0.8529\n"
          ]
        }
      ]
    },
    {
      "cell_type": "code",
      "source": [
        "y_acc = hist.history['accuracy']\n",
        "y_vloss = hist.history['val_loss']\n",
        "xs = np.arange(1,len(y_acc)+1)"
      ],
      "metadata": {
        "id": "3GEl6X4UZeGV"
      },
      "execution_count": 49,
      "outputs": []
    },
    {
      "cell_type": "code",
      "source": [
        "plt.figure(figsize=(12,8))\n",
        "plt.plot(xs, y_acc, ms=5, label='train accuracy')\n",
        "plt.plot(xs, y_vloss, ms=5, label='validation loss')\n",
        "plt.legend()\n",
        "plt.grid()\n",
        "plt.xlabel('Epoch')\n",
        "plt.show()"
      ],
      "metadata": {
        "colab": {
          "base_uri": "https://localhost:8080/",
          "height": 497
        },
        "id": "uD0ddT1aZ_aG",
        "outputId": "0d07f067-07a3-4c66-8f0d-76d04a9c85a4"
      },
      "execution_count": 51,
      "outputs": [
        {
          "output_type": "display_data",
          "data": {
            "image/png": "[encoded data removed]",
            "text/plain": [
              "<Figure size 864x576 with 1 Axes>"
            ]
          },
          "metadata": {
            "needs_background": "light"
          }
        }
      ]
    },
    {
      "cell_type": "code",
      "source": [
        "best_model = load_model(model_path)\n",
        "best_model.evaluate(X_test, y_test)"
      ],
      "metadata": {
        "colab": {
          "base_uri": "https://localhost:8080/"
        },
        "id": "-KGjwKjOaDQC",
        "outputId": "4efa59cd-66aa-4b0d-85a6-0b675ccfe67a"
      },
      "execution_count": 52,
      "outputs": [
        {
          "output_type": "stream",
          "name": "stdout",
          "text": [
            "2/2 [==============================] - 0s 5ms/step - loss: 0.3861 - accuracy: 0.8571\n"
          ]
        },
        {
          "output_type": "execute_result",
          "data": {
            "text/plain": [
              "[0.3861370086669922, 0.8571428656578064]"
            ]
          },
          "metadata": {},
          "execution_count": 52
        }
      ]
    },
    {
      "cell_type": "code",
      "source": [
        ""
      ],
      "metadata": {
        "id": "JCyHt8KYbKY7"
      },
      "execution_count": null,
      "outputs": []
    }
  ]
}