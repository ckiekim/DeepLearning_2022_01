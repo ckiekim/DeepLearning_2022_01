{
  "cells": [
    {
      "cell_type": "markdown",
      "metadata": {
        "id": "fNbHg1_EjhRG"
      },
      "source": [
        "# 이미지 처리 (Image Processing)\n",
        "\n",
        "- 필요에 따라 적절한 처리 \n",
        "\n",
        "- `resize()`, `flip()`, `getAffineTransform()`, `warpAffine()` 등 다양한 메서드 존재"
      ]
    },
    {
      "cell_type": "markdown",
      "metadata": {
        "id": "3T4OmR6BlLDA"
      },
      "source": [
        "## Resize\n",
        "\n",
        "- `cv2.resize()`\n",
        "  - 사이즈가 변하면 pixel사이의 값을 결정을 해야함\n",
        "  \n",
        "  - 보간법(Interpolation method)\n",
        "    - 사이즈를 줄일 때 : `cv2.INTER_AREA` \n",
        "    \n",
        "    - 사이즈를 크게 할 때 : `cv2.INTER_CUBIC` , `cv2.INTER_LINEAR`\n",
        "\n",
        "  - `Parameters`\n",
        "    - `img` : Image\n",
        "\n",
        "    - `dsize` : Manual Size. 가로, 세로 형태의 tuple(ex; (100,200))\n",
        "\n",
        "    - `fx` : 가로 사이즈의 배수. 2배로 크게하려면 2. 반으로 줄이려면 0.5\n",
        "\n",
        "    - `fy` : 세로 사이즈의 배수\n",
        "\n",
        "    - `interpolation` : 보간법"
      ]
    },
    {
      "cell_type": "markdown",
      "metadata": {
        "id": "PRkU_Tew3RGJ"
      },
      "source": [
        "![](https://upload.wikimedia.org/wikipedia/ko/2/24/Lenna.png)\n",
        "\n",
        "* https://upload.wikimedia.org/wikipedia/ko/2/24/Lenna.png"
      ]
    },
    {
      "cell_type": "code",
      "execution_count": null,
      "metadata": {
        "id": "U3DNsXXXmVYP"
      },
      "outputs": [],
      "source": []
    },
    {
      "cell_type": "markdown",
      "metadata": {
        "id": "WbRYCSw2myf1"
      },
      "source": [
        "## Translation\n",
        "\n",
        "- 이미지의 위치를 변경\n",
        "\n",
        "- `cv2.warpAffine()`\n",
        "\n",
        "  - `Parameters` \n",
        "    - `src` : Image\n",
        "    \n",
        "    - `M` : 변환 행렬\n",
        "\n",
        "    - `dsize` (tuple) : output image size(ex; (width=columns, height=rows)\n"
      ]
    },
    {
      "cell_type": "code",
      "execution_count": null,
      "metadata": {
        "id": "-ID12sepne4y"
      },
      "outputs": [],
      "source": []
    },
    {
      "cell_type": "markdown",
      "metadata": {
        "id": "uqjPed11ntSs"
      },
      "source": [
        "## Rotate\n",
        "\n",
        "- 물체를 평면상의 한 점을 중심으로 𝜃 만큼 회전하는 변환\n",
        "\n",
        "- 양의 각도는 시계반대방향으로 회전\n",
        "\n",
        "- `cv2.getRotationMatrix2D()`\n",
        "  \n",
        "  - `Parameters`  \t\n",
        "\n",
        "    - `center` : 이미지의 중심 좌표\n",
        "    \n",
        "    - `angle` : 회전 각도\n",
        "\n",
        "    - `scale` : scale factor"
      ]
    },
    {
      "cell_type": "code",
      "execution_count": null,
      "metadata": {
        "id": "yipLh7keoLiC"
      },
      "outputs": [],
      "source": []
    },
    {
      "cell_type": "markdown",
      "metadata": {
        "id": "cIUiAUd74GT7"
      },
      "source": [
        "## Flip\n",
        "\n",
        "- 대칭 변환\n",
        "  - 좌우 대칭 (좌우 반전)\n",
        "\n",
        "  - 상하 대칭 (상하 반전)\n",
        "\n",
        "- 입력 영상과 출력 영상의 픽셀이 1:1 매칭이므로 보간법이 필요 없음\n",
        "\n",
        "- `cv2.flip()`\n",
        "\n",
        "  - Parameters\n",
        "\n",
        "    - `src` : 입력 영상\n",
        "\n",
        "    - `flipCode` : 대칭 방법을 결정하는 flag 인자\n",
        "\n",
        "      - 양수이면 좌우 대칭\n",
        "\n",
        "      - 0이면 상하 대칭\n",
        "\n",
        "      - 음수이면 상하, 좌우 대칭을 모두 실행"
      ]
    },
    {
      "cell_type": "code",
      "execution_count": null,
      "metadata": {
        "id": "W4vP1Nmk5owm"
      },
      "outputs": [],
      "source": []
    },
    {
      "cell_type": "markdown",
      "metadata": {
        "id": "Z3b4eVk6pMB1"
      },
      "source": [
        "## Affine Transformation\n",
        "\n",
        "- 선의 평행선은 유지되면서 이미지를 변환하는 작업\n",
        "\n",
        "- 이동, 확대, Scale, 반전까지 포함된 변환\n",
        "\n",
        "- `cv2.getAffineTransform()`\n",
        "\n",
        "  - Affine 변환을 위해서는 3개의 Match가 되는 점이 있으면 변환행렬을 구할 수 있음"
      ]
    },
    {
      "cell_type": "code",
      "execution_count": null,
      "metadata": {
        "id": "hc-GPLkfqs2C"
      },
      "outputs": [],
      "source": []
    },
    {
      "cell_type": "markdown",
      "metadata": {
        "id": "Hfb0_N9irPyu"
      },
      "source": [
        "## Perspective Transformation\n",
        "\n",
        "- Perspective(원근법) 변환\n",
        "\n",
        "- 직선의 성질만 유지, 선의 평행성은 유지가 되지 않는 변환\n",
        "\n",
        "- 기차길은 서로 평행하지만 원근변환을 거치면 평행성은 유지 되지 못하고 하나의 점에서 만나는 것 처럼 보임 (반대의 변환도 가능)\n",
        "\n",
        "- 4개의 Point의 Input값과 이동할 output Point 가 필요\n",
        "\n",
        "- `cv2.getPerspectiveTransform()`가 필요하며, `cv2.warpPerspective()` 함수에 변환행렬값을 적용하여 최종 결과 이미지를 얻을 수 있음"
      ]
    },
    {
      "cell_type": "markdown",
      "metadata": {
        "id": "FjlF_mEqtNHQ"
      },
      "source": [
        "\n",
        "- train.jpg\n",
        "\n",
        "  <img src=\"https://cdn.pixabay.com/photo/2015/04/04/06/54/train-706219_960_720.jpg\" width=\"200\">\n",
        "\n",
        "  <sub>[이미지 출처] https://pixabay.com/ko/photos/%EA%B8%B0%EC%B0%A8-%EA%B8%B0%EC%B0%A8%EA%B8%B8-%EA%B0%88%EB%A6%BC%EA%B8%B8-706219/</sub>"
      ]
    },
    {
      "cell_type": "code",
      "execution_count": null,
      "metadata": {
        "id": "PmSLhw3utvvD"
      },
      "outputs": [],
      "source": []
    },
    {
      "cell_type": "markdown",
      "metadata": {
        "id": "k1gcy2CluVvv"
      },
      "source": [
        "- 좌표점은 `왼쪽 위 -> 오른쪽 위 -> 오른쪽 아래 -> 왼쪽 아래`"
      ]
    },
    {
      "cell_type": "code",
      "execution_count": null,
      "metadata": {
        "id": "Xu224v240ydL"
      },
      "outputs": [],
      "source": []
    }
  ],
  "metadata": {
    "colab": {
      "collapsed_sections": [],
      "name": "_02 OpenCV 이미지 처리 (Image Processing).ipynb",
      "provenance": []
    },
    "kernelspec": {
      "display_name": "Python 3",
      "name": "python3"
    }
  },
  "nbformat": 4,
  "nbformat_minor": 0
}
