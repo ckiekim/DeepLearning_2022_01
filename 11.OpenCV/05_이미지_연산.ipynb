{
  "cells": [
    {
      "cell_type": "markdown",
      "metadata": {
        "id": "VvaXEiwm34n2"
      },
      "source": [
        "# 이미지 연산 (Image Operation)\n",
        "\n",
        "- 이미지는 배열(array)로 표현가능하여 여러가지 연산 가능"
      ]
    },
    {
      "cell_type": "markdown",
      "metadata": {
        "id": "289W-N2F4i0N"
      },
      "source": [
        "- 이미지 다운로드 및 업로드\n",
        "\n",
        "  - tree.jpg\n",
        "  <img src=\"사진/tree.jpg\" width=\"400\">\n",
        "  <sub>[이미지 출처] https://pixabay.com/ko/photos/%ED%8A%B8%EB%A6%AC-%EC%82%AC%EB%A7%89-%ED%92%8D%EA%B2%BD-%ED%86%A0%EC%A7%80-%EA%B0%80%EB%AD%84-5507220/</sub>\n"
      ]
    },
    {
      "cell_type": "code",
      "execution_count": null,
      "metadata": {
        "id": "mfxDN0gc38SG"
      },
      "outputs": [],
      "source": []
    },
    {
      "cell_type": "markdown",
      "metadata": {
        "id": "0T85VePG6CBk"
      },
      "source": [
        "## Pixel Value"
      ]
    },
    {
      "cell_type": "code",
      "execution_count": null,
      "metadata": {
        "id": "-W4Uue2x38OU"
      },
      "outputs": [],
      "source": []
    },
    {
      "cell_type": "markdown",
      "metadata": {
        "id": "ebVszfyW6lqt"
      },
      "source": [
        "## 값 변경"
      ]
    },
    {
      "cell_type": "code",
      "execution_count": null,
      "metadata": {
        "id": "1BEwonD537_f"
      },
      "outputs": [],
      "source": []
    },
    {
      "cell_type": "markdown",
      "metadata": {
        "id": "c7CZUU6a7p9h"
      },
      "source": [
        "## 인덱싱"
      ]
    },
    {
      "cell_type": "code",
      "execution_count": null,
      "metadata": {
        "id": "sSXUrrNl75uS"
      },
      "outputs": [],
      "source": []
    },
    {
      "cell_type": "markdown",
      "metadata": {
        "id": "mGgBUteR8Mwg"
      },
      "source": [
        "## 이미지 ROI\n",
        "\n",
        "- 이미지 작업시에는 특정 pixel단위 보다는 특정 영역단위로 작업을 하게 되는데 이것을 Region of Image(ROI)라고 함\n",
        "  \n",
        "- ROI 설정은 Numpy의 indexing 을 사용\n",
        "  \n",
        "  - 특정 영역을 copy 할 수도 있음"
      ]
    },
    {
      "cell_type": "code",
      "execution_count": null,
      "metadata": {
        "id": "4DeUazdS6vOR"
      },
      "outputs": [],
      "source": []
    },
    {
      "cell_type": "markdown",
      "metadata": {
        "id": "Aa0sOBUd90Ct"
      },
      "source": [
        "## 이미지의 Channels\n",
        "\n",
        "- B, G, R로 구성된 채널을 분리, 합칠 수 있음\n",
        "\n",
        "  - `cv2.split()`\n",
        "\n",
        "  - `cv2.merge()`"
      ]
    },
    {
      "cell_type": "code",
      "execution_count": null,
      "metadata": {
        "id": "vQiNnEBK6u6k"
      },
      "outputs": [],
      "source": []
    },
    {
      "cell_type": "markdown",
      "metadata": {
        "id": "qfLzw_VV_xyw"
      },
      "source": [
        "- `cv2.split()` 함수는 비용이 많이 드는 함수이므로, 가능하다면 **Numpy indexing**을 사용하는 효율적!"
      ]
    },
    {
      "cell_type": "markdown",
      "metadata": {
        "id": "5qfrg8aiAA-N"
      },
      "source": [
        "- R 채널 0으로 값 변경"
      ]
    },
    {
      "cell_type": "code",
      "execution_count": null,
      "metadata": {
        "id": "oHwqrkCjADkV"
      },
      "outputs": [],
      "source": []
    },
    {
      "cell_type": "markdown",
      "metadata": {
        "id": "ADZTRfVcAjB3"
      },
      "source": [
        "- G 채널 255으로 값 변경"
      ]
    },
    {
      "cell_type": "code",
      "execution_count": null,
      "metadata": {
        "id": "NY4PKyOLAtR0"
      },
      "outputs": [],
      "source": []
    },
    {
      "cell_type": "markdown",
      "metadata": {
        "id": "zTnndDI49Rzm"
      },
      "source": [
        "## 이미지 더하기\n",
        "- `cv2.add()`\n",
        "\n",
        "- `cv2.addWeighted()`\n",
        "\n",
        "- `Numpy` 더하기 연산\n",
        "\n",
        "- (참고) \n",
        "  - `cv2.add()` : Saturation 연산 \n",
        "    - `Saturation` 연산은 한계값을 정하고 그 값을 벗어나는 경우는 모두 특정 값으로 계산하는 방식\n",
        "\n",
        "    - 이미지에서는 0이하는 모두 0, 255이상은 모두 255로 표현\n",
        "  \n",
        "  - `Numpy` : modulo 연산\n",
        "    - a와 b는 n으로 나눈 나머지 값이 같다라는 의미\n",
        "\n",
        "    - 이미지에서는 연산의 결과가 256보다 큰 경우는 256으로 나눈 나머지 값으로 결정"
      ]
    },
    {
      "cell_type": "code",
      "execution_count": null,
      "metadata": {
        "id": "5wUbZ2Ay9dvE"
      },
      "outputs": [],
      "source": []
    },
    {
      "cell_type": "markdown",
      "metadata": {
        "id": "9mCVCK4w-Yim"
      },
      "source": [
        "- `cv2.add()` 연산"
      ]
    },
    {
      "cell_type": "code",
      "execution_count": null,
      "metadata": {
        "id": "VNTYPOEM9ds5"
      },
      "outputs": [],
      "source": []
    },
    {
      "cell_type": "markdown",
      "metadata": {
        "id": "NWJfVDVr-arn"
      },
      "source": [
        "- `Numpy` 연산"
      ]
    },
    {
      "cell_type": "code",
      "execution_count": null,
      "metadata": {
        "id": "etWmmdxl9drN"
      },
      "outputs": [],
      "source": []
    },
    {
      "cell_type": "markdown",
      "metadata": {
        "id": "9fiaic3T-kxX"
      },
      "source": [
        "- 이미지1(dog1.jpg)\n",
        "\n",
        "  <img src=\"https://cdn.pixabay.com/photo/2017/09/25/13/12/dog-2785074_960_720.jpg\" width=\"300\">\n",
        "\n",
        "  <sub>[이미지 출처] https://pixabay.com/ko/photos/%EA%B0%9C-%EC%8A%AC%ED%94%88-%EB%8C%80%EA%B8%B0-%EC%A4%91-%EC%B8%B5-2785074//</sub>\n",
        "\n",
        "<br>\n",
        "\n",
        "- 이미지2(dog2.jpg)\n",
        "\n",
        "  <img src=\"https://cdn.pixabay.com/photo/2017/09/25/13/14/dog-2785077_960_720.jpg\" width=\"300\">\n",
        "\n",
        "  <sub>[이미지 출처] https://pixabay.com/ko/photos/%EA%B0%9C-%EB%9D%BC%EC%82%AC-%EC%82%AC-apso-%EB%8F%99%EB%AC%BC-2785077/</sub>"
      ]
    },
    {
      "cell_type": "code",
      "execution_count": null,
      "metadata": {
        "id": "4KmPMMXL9dmX"
      },
      "outputs": [],
      "source": []
    },
    {
      "cell_type": "markdown",
      "metadata": {
        "id": "8krYJ50hASze"
      },
      "source": [
        "- `cv2.add()` 연산"
      ]
    },
    {
      "cell_type": "code",
      "execution_count": null,
      "metadata": {
        "id": "tPbAr6kc9dhJ"
      },
      "outputs": [],
      "source": []
    },
    {
      "cell_type": "markdown",
      "metadata": {
        "id": "Gb7vDjtEA_4h"
      },
      "source": [
        "- `Numpy` 연산"
      ]
    },
    {
      "cell_type": "code",
      "execution_count": null,
      "metadata": {
        "id": "701dXj9P9dbv"
      },
      "outputs": [],
      "source": []
    },
    {
      "cell_type": "markdown",
      "metadata": {
        "id": "Of7klak-7J6-"
      },
      "source": [
        "## 비트 연산\n",
        "- AND, OR, NOT, XOR 연산\n",
        "  - `bitwise_and` : 둘다 0이 아닌 경우만 값을 통과\n",
        "\n",
        "  - `bitwise_or` : 둘중 하나가 0이 아니면 값을 통과\n",
        "\n",
        "  - `bitwise_not` : 해당 값에 대해 부정값을 통과\n",
        "\n",
        "  - `bitwise_xor` : 두 요소의 논리적 배타값 통과\n"
      ]
    },
    {
      "cell_type": "markdown",
      "metadata": {
        "id": "xJyPLOki4A6F"
      },
      "source": [
        "* 이미지 다운로드\n",
        "\n",
        "<img src=\"https://static.vecteezy.com/system/resources/previews/000/440/202/original/star-vector-icon.jpg\" width=\"400\">\n",
        "\n",
        "<sub>출처: https://static.vecteezy.com/system/resources/previews/000/440/202/original/star-vector-icon.jpg</sub>\n",
        "\n",
        "\n"
      ]
    },
    {
      "cell_type": "code",
      "execution_count": null,
      "metadata": {
        "id": "33mNnF69ExwO"
      },
      "outputs": [],
      "source": []
    },
    {
      "cell_type": "markdown",
      "metadata": {
        "id": "8tQ2Cj_5HuKx"
      },
      "source": [
        "- 이미지의 dtype을 int형으로 변환"
      ]
    },
    {
      "cell_type": "code",
      "execution_count": null,
      "metadata": {
        "id": "xe-Y3PqCEx1U"
      },
      "outputs": [],
      "source": []
    },
    {
      "cell_type": "markdown",
      "metadata": {
        "id": "58R5pDpQH3TU"
      },
      "source": [
        "### bitwise_and 연산"
      ]
    },
    {
      "cell_type": "code",
      "execution_count": null,
      "metadata": {
        "id": "7q3PO26lCEq_"
      },
      "outputs": [],
      "source": []
    },
    {
      "cell_type": "markdown",
      "metadata": {
        "id": "PqsZjQiKIFxy"
      },
      "source": [
        "### bitwise_or 연산"
      ]
    },
    {
      "cell_type": "code",
      "execution_count": null,
      "metadata": {
        "id": "qfY-1ywjIFS5"
      },
      "outputs": [],
      "source": []
    },
    {
      "cell_type": "markdown",
      "metadata": {
        "id": "cwieTC85IM3m"
      },
      "source": [
        "### bitwise_not 연산"
      ]
    },
    {
      "cell_type": "code",
      "execution_count": null,
      "metadata": {
        "id": "rI6RTRaXIFKI"
      },
      "outputs": [],
      "source": []
    },
    {
      "cell_type": "markdown",
      "metadata": {
        "id": "fdIfaCSlIZUm"
      },
      "source": [
        "### bitwise_nor 연산"
      ]
    },
    {
      "cell_type": "code",
      "execution_count": null,
      "metadata": {
        "id": "uOvf4kmSI0bP"
      },
      "outputs": [],
      "source": []
    },
    {
      "cell_type": "markdown",
      "metadata": {
        "id": "DkRewO5__SAB"
      },
      "source": [
        "### 비트 연산 예시 - lenna 이미지에 OpenCV 로고 넣기\n",
        "\n",
        "\n",
        "- 이미지 (OpenCV logo)\n",
        "  - https://img1.daumcdn.net/thumb/R800x0/?scode=mtistory2&fname=https%3A%2F%2Ft1.daumcdn.net%2Fcfile%2Ftistory%2F2361FF4A586B8FFE1A\n",
        "\n",
        "  <img src=\"https://img1.daumcdn.net/thumb/R800x0/?scode=mtistory2&fname=https%3A%2F%2Ft1.daumcdn.net%2Fcfile%2Ftistory%2F2361FF4A586B8FFE1A\" width=\"300\">"
      ]
    },
    {
      "cell_type": "code",
      "execution_count": null,
      "metadata": {
        "id": "xlyStgKGwZt2"
      },
      "outputs": [],
      "source": []
    },
    {
      "cell_type": "markdown",
      "metadata": {
        "id": "Zin0vDdk0sMc"
      },
      "source": [
        "![](https://upload.wikimedia.org/wikipedia/ko/2/24/Lenna.png)\n",
        "\n",
        "* https://upload.wikimedia.org/wikipedia/ko/2/24/Lenna.png"
      ]
    },
    {
      "cell_type": "code",
      "execution_count": null,
      "metadata": {
        "id": "3DGZQVFH0uJI"
      },
      "outputs": [],
      "source": []
    },
    {
      "cell_type": "markdown",
      "metadata": {
        "id": "uCyv4I4WBFZ2"
      },
      "source": [
        "- 삽입할 이미지의 row, col, channel정보\n",
        "\n",
        "- 대상 이미지에서 삽입할 이미지의 영역을 추출"
      ]
    },
    {
      "cell_type": "code",
      "execution_count": null,
      "metadata": {
        "id": "i-nQL6ylBI6o"
      },
      "outputs": [],
      "source": []
    },
    {
      "cell_type": "markdown",
      "metadata": {
        "id": "cQmjci6g_KD1"
      },
      "source": [
        "- mask를 만들기 위해서 logo 이미지를 gray scale로 변경후 binary image로 전환\n",
        "\n",
        "- mask는 logo부분이 흰색(255), 바탕은 검은색(0)\n",
        "\n",
        "- mask_inv는 logo부분이 검은색(0), 바탕은 흰색(255)"
      ]
    },
    {
      "cell_type": "code",
      "execution_count": null,
      "metadata": {
        "id": "QJwhyroCwZbW"
      },
      "outputs": [],
      "source": []
    },
    {
      "cell_type": "markdown",
      "metadata": {
        "id": "dAxnGBJwVA1M"
      },
      "source": [
        "## Image Blending\n",
        "- `cv2.addWeighted()` 사용하여 두 이미지를 bleding 할 수 있음\n",
        "\n",
        "- blending 하려는 두 이미지의 사이즈가 같아야함\n",
        "\n",
        "- [Simple Formula]  \n",
        "  # $\\quad g(x) = (1 - \\alpha) f_0(x) + \\alpha f_1(x)$\n",
        "\n",
        "  <br>\n",
        "\n",
        "  - $\\beta = 1 - \\alpha$\n",
        "\n",
        "  -  $\\alpha, \\beta $ 의 값을 통해 어떤 이미지를 더 강하게 드러내고, 어떤 이미지를 더 약하게 드러낼지 결정\n",
        "\n",
        "  - $\\gamma$ 추가 가능 (optional)\n"
      ]
    },
    {
      "cell_type": "markdown",
      "metadata": {
        "id": "PyOAo2QoZ5y4"
      },
      "source": [
        "- do-not-copy.jpg\n",
        "  \n",
        "  <img src=\"https://mdxenglish.files.wordpress.com/2014/08/do-not-copy.jpg\" width=\"400\">\n",
        "\n",
        "  <sub>[이미지 출처] https://mdxenglish.com/do-not-copy-2/</sub>"
      ]
    },
    {
      "cell_type": "code",
      "execution_count": null,
      "metadata": {
        "id": "2LCJgFD-MXaq"
      },
      "outputs": [],
      "source": []
    },
    {
      "cell_type": "markdown",
      "metadata": {
        "id": "J7Tzn3XfMdcA"
      },
      "source": [
        "- fashion.jpg\n",
        "\n",
        "  <img src=\"https://cdn.pixabay.com/photo/2020/06/20/12/55/fashion-5320934_960_720.jpg\">\n",
        "\n",
        "  <sub>[이미지 출처] https://pixabay.com/illustrations/fashion-moda-girl-shoes-model-5320934/</sub>"
      ]
    },
    {
      "cell_type": "code",
      "execution_count": null,
      "metadata": {
        "id": "qCQXg_6edtkC"
      },
      "outputs": [],
      "source": []
    }
  ],
  "metadata": {
    "colab": {
      "collapsed_sections": [],
      "name": "_03 OpenCV 이미지 연산 (Image Operation).ipynb",
      "provenance": []
    },
    "kernelspec": {
      "display_name": "Python 3",
      "name": "python3"
    }
  },
  "nbformat": 4,
  "nbformat_minor": 0
}
