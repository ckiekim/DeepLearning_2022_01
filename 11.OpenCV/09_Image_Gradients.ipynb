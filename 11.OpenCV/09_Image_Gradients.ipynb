{
  "cells": [
    {
      "cell_type": "markdown",
      "metadata": {
        "id": "_jsmb1KM5fYy"
      },
      "source": [
        "# Image Gradients\n",
        "\n",
        "- Gradient(기울기)는 영상의 edge 및 그 방향을 찾을 때 활용됨\n",
        "\n",
        "- 이미지 (x, y)에서의 벡터값(밝기와 밝기의 변화하는 방향)을 구해서 해당 pixel이 edge에 얼마나 가까운지, 그 방향이 어디인지 알 수 있음"
      ]
    },
    {
      "cell_type": "markdown",
      "metadata": {
        "id": "HlM4EK4c5y19"
      },
      "source": [
        "### Sobel & Scharr Filter\n",
        "\n",
        "- Gaussian smoothing과 미분을 이용\n",
        "\n",
        "- 노이즈가 있는 이미지에 적용하면 좋음\n",
        "\n",
        "- X축과 Y축을 미분하는 방법으로 경계값을 계산\n",
        "\n",
        "- `cv2.Sobel()`\n",
        "  - Parameters\n",
        "    - `src` : input image\n",
        "\n",
        "    - `ddepth` : output image의 depth, -1이면 input image와 동일.\n",
        "\n",
        "    - `dx` : x축 미분 차수.\n",
        "\n",
        "    - `dy` : y축 미분 차수.\n",
        "\n",
        "    - `ksize` : kernel size(ksize x ksize)\n",
        "\n",
        "- `cv2.Scharr()`\n",
        "\n",
        "  - `cv2.Sobel()`과 동일하지만 `ksize`가 sobel의 3x3보다 정확하게 적용됨"
      ]
    },
    {
      "cell_type": "markdown",
      "metadata": {
        "id": "ZawzD8ICrn7q"
      },
      "source": [
        "  ![](https://cdn.pixabay.com/photo/2020/02/20/19/48/travel-4865665_960_720.jpg)\n",
        "  \n",
        "  <sub>[이미지 출처] https://pixabay.com/photos/travel-flight-schedule-ad-plan-4865665/</sub>"
      ]
    },
    {
      "cell_type": "code",
      "execution_count": null,
      "metadata": {
        "id": "ibnevKpa9ZV2"
      },
      "outputs": [],
      "source": []
    },
    {
      "cell_type": "markdown",
      "metadata": {
        "id": "nERc3KcF6dXx"
      },
      "source": [
        "### Laplacian 함수\n",
        "- 이미지의 가로와 세로에 대한 Gradient를 2차 미분한 값\n",
        "\n",
        "- Sobel filter에 미분의 정도가 더해진 것과 비슷함 \n",
        "\n",
        "  - (dx와 dy가 2인 경우) blob(주위의 pixel과 확연한 pixel차이를 나타내는 덩어리)검출에 많이 사용됨\n",
        "\n",
        "- `cv2.Laplacian()`\n",
        "\n",
        "  - Parameters\n",
        "    - `src` : source image\n",
        "\n",
        "    - `ddepth` : output image의 depth.\n"
      ]
    },
    {
      "cell_type": "code",
      "execution_count": null,
      "metadata": {
        "id": "3UcXZN6p9F47"
      },
      "outputs": [],
      "source": []
    },
    {
      "cell_type": "markdown",
      "metadata": {
        "id": "st9jA6In70RI"
      },
      "source": [
        "### Canny Edge Detection\n",
        "- 가장 유명한 Edge Detection 방법\n",
        "\n",
        "- 아래의 단계를 거침\n",
        "\n",
        "  - `Noise Reduction`  \n",
        "    - 이미지의 Noise를 제거\n",
        "\n",
        "    - 이때 5x5의 Gaussian filter를 이용\n",
        "\n",
        "  - `Edge Gradient Detection`\n",
        "    - 이미지에서 Gradient의 방향과 강도를 확인\n",
        "    \n",
        "    - 경계값에서는 주변과 색이 다르기 때문에 미분값이 급속도로 변하게 됨\n",
        "    \n",
        "    - 이를 통해 경계값 후보군을 선별\n",
        "\n",
        "  - `Non-maximum Suppression`\n",
        "\n",
        "    - 이미지의 pixel을 Full scan하여 Edge가 아닌 pixel은 제거\n",
        "\n",
        "  - `Hysteresis Thresholding`\n",
        "    \n",
        "    - 이제 지금까지 Edge로 판단된 pixel이 진짜 edge인지 판별하는 작업 진행\n",
        "    \n",
        "    - max val과 minVal(임계값)을 설정하여 maxVal 이상은 강한 Edge, min과 max사이는 약한 edge로 설정\n",
        "    \n",
        "    - 이제 약한 edge가 진짜 edge인지 확인하기 위해서 강한 edge와 연결이 되어 있으면 edge로 판단하고, 그러지 않으면 제거\n",
        "\n",
        "\n",
        "- `cv2.Canny()`\n",
        "\n",
        "  - Parameters\n",
        "\n",
        "    - `image` : 8-bit input image\n",
        "\n",
        "    - `threshold1` : Hysteresis Thredsholding 작업에서의 min 값\n",
        "\n",
        "    - `threshold2` : Hysteresis Thredsholding 작업에서의 max 값\n",
        "\n"
      ]
    },
    {
      "cell_type": "code",
      "execution_count": null,
      "metadata": {
        "id": "IXfczvml8nc1"
      },
      "outputs": [],
      "source": []
    }
  ],
  "metadata": {
    "colab": {
      "collapsed_sections": [],
      "name": "_07 OpenCV Image Gradients.ipynb",
      "provenance": []
    },
    "kernelspec": {
      "display_name": "Python 3",
      "name": "python3"
    }
  },
  "nbformat": 4,
  "nbformat_minor": 0
}
