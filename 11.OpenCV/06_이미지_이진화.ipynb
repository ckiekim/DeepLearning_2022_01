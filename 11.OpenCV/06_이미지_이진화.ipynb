{
  "cells": [
    {
      "cell_type": "markdown",
      "metadata": {
        "id": "QpZqlfcJn-aq"
      },
      "source": [
        "# 이미지 이진화 (Image Thesholding)\n"
      ]
    },
    {
      "cell_type": "markdown",
      "metadata": {
        "id": "hl0auNkavXWQ"
      },
      "source": [
        "## 기본 임계 처리\n",
        "- 이진화 : 영상을 흑/백으로 분류하여 처리하는 것\n",
        "  - 기준이 되는 임계값을 어떻게 결정할 것인지가 중요한 문제!\n",
        "  - 임계값보다 크면 백, 작으면 흑이 되는데,  \n",
        "    기본 임계처리는 사용자가 고정된 임계값을 결정하고 그 결과를 보여주는 단순한 형태\n",
        "\n",
        "- 기본적으로 이미지의 segmenting의 가장 간단한 방법\n",
        "\n",
        "- `cv2.threshold()`\n",
        "\n",
        "  - Parameters  \n",
        "    - `src` : input image로 single-channel 이미지.(grayscale 이미지)\n",
        "    \n",
        "    - `thresh` : 임계값\n",
        "\n",
        "    - `maxval` : 임계값을 넘었을 때 적용할 value\n",
        "\n",
        "    - `type` : thresholding type\n",
        "\n",
        "  <br>\n",
        "\n",
        "  - thresholding type\n",
        "    - `cv2.THRESH_BINARY`  \n",
        "      - src(x, y) > thresh 일 때, maxval\n",
        "\n",
        "      - 그 외, 0\n",
        "\n",
        "    - `cv2.THRESH_BINARY_INV`\n",
        "      - src(x, y) > thresh 일 때, 0\n",
        "\n",
        "      - 그 외, maxval\n",
        "\n",
        "    - `cv2.THRESH_TRUNC`\n",
        "      - src(x, y) > thresh 일 때, thresh\n",
        "\n",
        "      - 그 외, src(x, y)\n",
        "\n",
        "    - `cv2.THRESH_TOZERO`\n",
        "      - src(x, y) > thresh 일 때, src(x, y)\n",
        "\n",
        "      - 그 외, 0\n",
        "\n",
        "    - `cv2.THRESH_TOZERO_INV`\n",
        "      - src(x, y) > thresh 일 때, 0\n",
        "\n",
        "      - 그 외, src(x, y)"
      ]
    },
    {
      "cell_type": "markdown",
      "metadata": {
        "id": "rlz4D9nisSuD"
      },
      "source": [
        "* letters.jpg\n",
        "\n",
        "  <img src=\"https://cdn.pixabay.com/photo/2018/09/26/09/07/letters-3704026_960_720.jpg\">\n",
        "\n",
        "  <sub>[이미지 출처] https://pixabay.com/illustrations/letters-school-learn-alphabet-abc-3704026/</sub>"
      ]
    },
    {
      "cell_type": "code",
      "execution_count": null,
      "metadata": {
        "id": "RArGATkcoBiZ"
      },
      "outputs": [],
      "source": []
    },
    {
      "cell_type": "markdown",
      "metadata": {
        "id": "72flwvaat5L_"
      },
      "source": [
        "- 이미지\n",
        "  - snow.jpg\n",
        "\n",
        "  <img src=\"https://cdn.pixabay.com/photo/2014/12/02/22/05/snowflake-554635_960_720.jpg\">\n",
        "\n",
        "  <sub>[이미지 출처] https://pixabay.com/illustrations/snowflake-snow-snowing-winter-cold-554635/</sub>"
      ]
    },
    {
      "cell_type": "code",
      "execution_count": null,
      "metadata": {
        "id": "yCDCXEW4oBb2"
      },
      "outputs": [],
      "source": []
    },
    {
      "cell_type": "markdown",
      "metadata": {
        "id": "sgif82Yvq7li"
      },
      "source": [
        "- 시각화"
      ]
    },
    {
      "cell_type": "code",
      "execution_count": null,
      "metadata": {
        "id": "h9aFTeINoBXe"
      },
      "outputs": [],
      "source": []
    },
    {
      "cell_type": "markdown",
      "metadata": {
        "id": "a2TDP4uwuo4N"
      },
      "source": [
        "## 적응 임계처리\n",
        "\n",
        "- 이전 단계에서는 임계값을 이미지 전체에 적용하여 처리하기 때문에  \n",
        "  하나의 이미지에 음영이 다르면 일부 영역이 모두 흰색 또는 검정색으로 보여지게 됨\n",
        "\n",
        "- 이런 문제를 해결하기 위해서 이미지의 작은 영역별로 thresholding\n",
        "\n",
        "- `cv2.adaptiveThreshold()`\n",
        "\n",
        "  - Parameters  \n",
        "    - `src` : grayscale image\n",
        "\n",
        "    - `maxValue` : 임계값\n",
        "\n",
        "    - `adaptiveMethod` : thresholding value를 결정하는 계산 방법\n",
        "\n",
        "    - `thresholdType` : threshold type\n",
        "\n",
        "    - `blockSize` : thresholding을 적용할 영역 사이즈\n",
        "\n",
        "    - `C` : 평균이나 가중평균에서 차감할 값\n",
        "\n",
        "  <br>\n",
        "  \n",
        "  - Adaptive Method\n",
        "    - `cv2.ADAPTIVE_THRESH_MEAN_C` : 주변영역의 평균값으로 결정\n",
        "\n",
        "    - `cv2.ADAPTIVE_THRESH_GAUSSIAN_C` : 주변영역의 가우시안 값으로 결정\n"
      ]
    },
    {
      "cell_type": "code",
      "execution_count": null,
      "metadata": {
        "id": "JuaP-yJ8wElg"
      },
      "outputs": [],
      "source": []
    },
    {
      "cell_type": "markdown",
      "metadata": {
        "id": "2WQn6Ilpq4LQ"
      },
      "source": [
        "- 시각화"
      ]
    },
    {
      "cell_type": "code",
      "execution_count": null,
      "metadata": {
        "id": "u1GaLKE-oBVJ"
      },
      "outputs": [],
      "source": []
    },
    {
      "cell_type": "markdown",
      "metadata": {
        "id": "2bju-YXUwphu"
      },
      "source": [
        "## Otsu의 이진화\n",
        "- `Otsu의 이진화`(Otsu’s Binarization)란 bimodal image에서 임계값을 자동으로 계산하는 것\n",
        "\n",
        "- 임계값을 결정하는 가장 일반적인 방법은 trial and error 방식\n",
        "\n",
        "- bimodal image (히스토그램으로 분석하면 2개의 peak가 있는 이미지)의 경우는 히스토그램에서 임계값을 어느정도 정확히 계산 가능\n",
        "\n",
        "- `cv2.threshold()` 함수의 flag에 추가로 `cv2.THRESH_STSU` 를 적용.\n",
        "  이때 임계값은 0으로 전달"
      ]
    },
    {
      "cell_type": "markdown",
      "metadata": {
        "id": "onqVxTuLxWKB"
      },
      "source": [
        "- 이미지\n",
        "  - noise.jpg\n",
        "\n",
        "  <img src=\"https://cdn.pixabay.com/photo/2017/01/04/13/09/star-1951963_960_720.jpg\">\n",
        "\n",
        "  <sub>[이미지 출처] https://pixabay.com/illustrations/star-grey-noise-banner-monochrome-1951963/</sub>"
      ]
    },
    {
      "cell_type": "code",
      "execution_count": null,
      "metadata": {
        "id": "_kk0lSxaxL6N"
      },
      "outputs": [],
      "source": []
    },
    {
      "cell_type": "markdown",
      "metadata": {
        "id": "qDBgsrmrq9jm"
      },
      "source": [
        "- 시각화"
      ]
    },
    {
      "cell_type": "code",
      "execution_count": null,
      "metadata": {
        "id": "QQl5N0cHoBPs"
      },
      "outputs": [],
      "source": []
    }
  ],
  "metadata": {
    "colab": {
      "collapsed_sections": [],
      "name": "_04 OpenCV 이미지 이진화 (Image Thresholding).ipynb",
      "provenance": []
    },
    "kernelspec": {
      "display_name": "Python 3",
      "name": "python3"
    }
  },
  "nbformat": 4,
  "nbformat_minor": 0
}
