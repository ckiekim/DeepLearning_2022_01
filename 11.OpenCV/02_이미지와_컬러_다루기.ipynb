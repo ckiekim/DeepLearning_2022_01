{
  "cells": [
    {
      "cell_type": "markdown",
      "metadata": {
        "id": "WPIWeAX-Tsn1"
      },
      "source": [
        "# OpenCV\n",
        "\n",
        "- 실시간 컴퓨터 비전을 목적으로, 실시간 이미지 프로세싱에 중점을 둔 한 프로그래밍 라이브러리\n",
        "\n",
        "- 인텔(Intel)에서 개발\n",
        "\n",
        "- TensorFlow , Torch / PyTorch 및 Caffe의 딥러닝 프레임워크 지원\n",
        "\n",
        "  <img src=\"https://upload.wikimedia.org/wikipedia/commons/thumb/5/53/OpenCV_Logo_with_text.png/440px-OpenCV_Logo_with_text.png\" width=\"300\">\n",
        "\n",
        "  <sub>[이미지 출처] https://ko.wikipedia.org/wiki/OpenCV</sub>"
      ]
    },
    {
      "cell_type": "markdown",
      "metadata": {
        "id": "0p7LHiyOmCdX"
      },
      "source": [
        "- 코드 참조 : https://opencv-python.readthedocs.io/en/latest/index.html"
      ]
    },
    {
      "cell_type": "markdown",
      "metadata": {
        "id": "x1kV2EEZgRdA"
      },
      "source": [
        "# 이미지와 넘파이\n",
        "\n",
        "- 이미지는 배열로 표현 가능 (Numpy)\n"
      ]
    },
    {
      "cell_type": "markdown",
      "metadata": {
        "id": "NipoVwHqgi2V"
      },
      "source": [
        "## 이미지 읽기 1\n",
        "\n",
        "- `pillow`, `matplotlib`와 `OpenCV` 모두 가능\n",
        "\n",
        "- 구글 코랩(Colab), 쥬피터 노트북과 같은 환경에서는 pillow(PIL), matplotlib이 더 적합\n",
        "\n",
        "- OpenCV는 주로 파이썬 스크립트 환경에서 사용\n",
        "  - `from google.colab.patches import cv2_imshow`으로  \n",
        "    이미지는 출력할 수는 있지만 동영상 관련 처리는 X"
      ]
    },
    {
      "cell_type": "code",
      "execution_count": null,
      "metadata": {
        "id": "zuzxmlJE7EA5"
      },
      "outputs": [],
      "source": []
    },
    {
      "cell_type": "markdown",
      "metadata": {
        "id": "mHZ9NrS3xtf4"
      },
      "source": [
        "- url과 Image객체를 활용하여 이미지 읽기\n",
        "  - https://cdn.pixabay.com/photo/2018/10/01/09/21/pets-3715733_960_720.jpg"
      ]
    },
    {
      "cell_type": "code",
      "execution_count": null,
      "metadata": {
        "id": "Sw4lZCvJ7HYz"
      },
      "outputs": [],
      "source": []
    },
    {
      "cell_type": "markdown",
      "metadata": {
        "id": "v4CF1AxmEvja"
      },
      "source": [
        "## 이미지 출력 1\n",
        "\n",
        "- 이미지 확인 (`pillow`)\n",
        "  - Image 객체"
      ]
    },
    {
      "cell_type": "code",
      "execution_count": null,
      "metadata": {
        "id": "SVt6zcKJ7irP"
      },
      "outputs": [],
      "source": []
    },
    {
      "cell_type": "markdown",
      "metadata": {
        "id": "Y5hjMEOAEmH4"
      },
      "source": [
        "- 타입(type) 확인"
      ]
    },
    {
      "cell_type": "code",
      "execution_count": null,
      "metadata": {
        "id": "_48toI9P78bG"
      },
      "outputs": [],
      "source": []
    },
    {
      "cell_type": "markdown",
      "metadata": {
        "id": "LoanVTLeEx0m"
      },
      "source": [
        "- PIL 이미지를 array형으로 형변환\n",
        "  - `np.asarray()`"
      ]
    },
    {
      "cell_type": "code",
      "execution_count": null,
      "metadata": {
        "id": "Tx5jx9Wx7_Ed"
      },
      "outputs": [],
      "source": []
    },
    {
      "cell_type": "markdown",
      "metadata": {
        "id": "OvWwCtSeE0eN"
      },
      "source": [
        "- 타입(type) 확인"
      ]
    },
    {
      "cell_type": "code",
      "execution_count": null,
      "metadata": {
        "id": "pyOvVYX-8FJf"
      },
      "outputs": [],
      "source": []
    },
    {
      "cell_type": "markdown",
      "metadata": {
        "id": "-aGR7SOj8GK4"
      },
      "source": [
        "- shape 확인"
      ]
    },
    {
      "cell_type": "code",
      "execution_count": null,
      "metadata": {
        "id": "QioZ4sNv8HFi"
      },
      "outputs": [],
      "source": []
    },
    {
      "cell_type": "markdown",
      "metadata": {
        "id": "gIWUYdAii1dt"
      },
      "source": [
        "## 이미지 출력 2\n",
        "- R, G, B 에 따라 이미지 확인"
      ]
    },
    {
      "cell_type": "code",
      "execution_count": null,
      "metadata": {
        "id": "hFcIHzs28Lj4"
      },
      "outputs": [],
      "source": []
    },
    {
      "cell_type": "markdown",
      "metadata": {
        "id": "2gvtv5GijKf6"
      },
      "source": [
        "- 채널 순서 (R G B : 0 1 2)\n",
        "  - `R channel`"
      ]
    },
    {
      "cell_type": "code",
      "execution_count": null,
      "metadata": {
        "id": "JN6rRKbA8XRi"
      },
      "outputs": [],
      "source": []
    },
    {
      "cell_type": "markdown",
      "metadata": {
        "id": "ncPs7KUNjsEG"
      },
      "source": [
        "- 채널 순서 (R G B : 0 1 2)\n",
        "  - `G channel`"
      ]
    },
    {
      "cell_type": "code",
      "execution_count": null,
      "metadata": {
        "id": "umVs2i9G8Zck"
      },
      "outputs": [],
      "source": []
    },
    {
      "cell_type": "markdown",
      "metadata": {
        "id": "y7MiriEikAho"
      },
      "source": [
        "- 채널 순서 (R G B : 0 1 2)\n",
        "  - `B channel`"
      ]
    },
    {
      "cell_type": "code",
      "execution_count": null,
      "metadata": {
        "id": "-luoCTLvagMK"
      },
      "outputs": [],
      "source": []
    },
    {
      "cell_type": "markdown",
      "metadata": {
        "id": "rc1c2eMbkZzW"
      },
      "source": [
        "- `R channel` 분포 확인"
      ]
    },
    {
      "cell_type": "code",
      "execution_count": null,
      "metadata": {
        "id": "2L5htsUd8d4L"
      },
      "outputs": [],
      "source": []
    },
    {
      "cell_type": "markdown",
      "metadata": {
        "id": "IkGf4RzGlAZn"
      },
      "source": [
        "- `G channel` 확인"
      ]
    },
    {
      "cell_type": "code",
      "execution_count": null,
      "metadata": {
        "id": "Q7nViVEg8gg8"
      },
      "outputs": [],
      "source": []
    },
    {
      "cell_type": "markdown",
      "metadata": {
        "id": "npowuURDlQNr"
      },
      "source": [
        "- `B channel` 확인"
      ]
    },
    {
      "cell_type": "code",
      "execution_count": null,
      "metadata": {
        "id": "SJBtz5p_8mP8"
      },
      "outputs": [],
      "source": []
    },
    {
      "cell_type": "markdown",
      "metadata": {
        "id": "1ZjQrrNUEBFq"
      },
      "source": [
        "## 이미지 출력 3\n",
        "- `OpenCV`\n",
        "\n",
        "- Colab:  `from google.colab.patches import cv2_imshow`\n",
        "- PC:     `cv2.imshow`"
      ]
    },
    {
      "cell_type": "code",
      "execution_count": null,
      "metadata": {
        "id": "Xi9P1gvrp3Ju"
      },
      "outputs": [],
      "source": []
    },
    {
      "cell_type": "markdown",
      "metadata": {
        "id": "v_aMSI-4EvL4"
      },
      "source": [
        "## OpenCV 의 채널 순서\n",
        "- OpenCV를 통해 영상(이미지)을 다룰 때의 채널 순서는 B G R\n",
        "- matplotlib은 R G B 순서"
      ]
    },
    {
      "cell_type": "markdown",
      "metadata": {
        "id": "JNH8Zub4E6rN"
      },
      "source": [
        "- `cv2.cvtColor()`\n",
        "  \n",
        "  - image arrary, 변경할 색공간을 인자로 넣어줌 \n",
        "\n",
        "  - 변경할 색공간은 여러 가지가 있음\n",
        "    - `cv2.COLOR_BGR2RGB`\n",
        "\n",
        "    - `cv2.COLOR_RGB2GRAY`\n",
        "\n",
        "    - `cv2.COLOR_GRAY2RGB`\n",
        "\n",
        "    - ..."
      ]
    },
    {
      "cell_type": "code",
      "execution_count": null,
      "metadata": {
        "id": "rJEhqeNcEm2Z"
      },
      "outputs": [],
      "source": []
    },
    {
      "cell_type": "markdown",
      "metadata": {
        "id": "NubiR9GtF9VX"
      },
      "source": [
        "- image, pic_arr 비교\n",
        "\n",
        "  - 0 1 2 인덱스 중 0, 2가 바뀐 것을 알 수 있음"
      ]
    },
    {
      "cell_type": "code",
      "execution_count": null,
      "metadata": {
        "id": "LQ0qciEcGB5P"
      },
      "outputs": [],
      "source": []
    },
    {
      "cell_type": "markdown",
      "metadata": {
        "id": "wyXGC2gpGMYG"
      },
      "source": [
        "- (참고) array[ : ,  : ,  : : -1] 을 통해서도 인덱스 순서를 바꿀 수 있음"
      ]
    },
    {
      "cell_type": "code",
      "execution_count": null,
      "metadata": {
        "id": "VLAgzxGpGEGA"
      },
      "outputs": [],
      "source": []
    },
    {
      "cell_type": "markdown",
      "metadata": {
        "id": "YYtWcvJiIm1e"
      },
      "source": [
        "## 이미지 읽기 2\n",
        "- `cv2.imread()`\n",
        "\n",
        "  - path, 이미지 파일의 flag값을 인자로 넣어줌\n",
        "\n",
        "    - `cv2.IMREAD_COLOR`  \n",
        "      이미지 파일을 Color로 읽어들이고, 투명한 부분은 무시되며, Default 값\n",
        "    \n",
        "    - `cv2.IMREAD_GRAYSCALE`  \n",
        "      이미지를 Grayscale로 읽음. 실제 이미지 처리시 중간단계로 많이 사용\n",
        "    \n",
        "    - `cv2.IMREAD_UNCHANGED`  \n",
        "      이미지 파일을 alpha channel (투명도)까지 포함하여 읽어 들임\n",
        "\n",
        "- **(주의)**\n",
        "  - `cv2.imread()`는 잘못된 경로로 읽어도 `NoneType`으로 들어갈 뿐, <u>오류를 발생하지 않음</u>"
      ]
    },
    {
      "cell_type": "markdown",
      "metadata": {
        "id": "khl8sKMsgE0-"
      },
      "source": [
        "- 이미지 다운로드 후 colab에 업로드\n",
        "  \n",
        "  - https://upload.wikimedia.org/wikipedia/ko/thumb/2/24/Lenna.png/220px-Lenna.png\n",
        "  \n",
        "  <br>\n",
        "  \n",
        "  <img src=\"https://upload.wikimedia.org/wikipedia/ko/thumb/2/24/Lenna.png/440px-Lenna.png\" width=\"300\">\n"
      ]
    },
    {
      "cell_type": "code",
      "execution_count": null,
      "metadata": {
        "id": "9X2nmZtTg7wy"
      },
      "outputs": [],
      "source": []
    },
    {
      "cell_type": "markdown",
      "metadata": {
        "id": "c2rWb-oqizaa"
      },
      "source": [
        "- `grayscale`로 읽기"
      ]
    },
    {
      "cell_type": "code",
      "execution_count": null,
      "metadata": {
        "id": "6AVTokPkjV5U"
      },
      "outputs": [],
      "source": []
    },
    {
      "cell_type": "markdown",
      "metadata": {
        "id": "X35FveevhEcw"
      },
      "source": [
        "## 이미지 저장\n",
        "- `cv2.imwrite()`\n",
        "  - 경로, 이미지 배열을 인자로 받음"
      ]
    },
    {
      "cell_type": "code",
      "execution_count": null,
      "metadata": {
        "id": "uQkpivEWg9XX"
      },
      "outputs": [],
      "source": []
    },
    {
      "cell_type": "markdown",
      "metadata": {
        "id": "TNkqmHnYhkkm"
      },
      "source": [
        "- 이미지 저장을 하면 True반환"
      ]
    },
    {
      "cell_type": "code",
      "execution_count": null,
      "metadata": {
        "id": "x5Gc6xAjha8h"
      },
      "outputs": [],
      "source": []
    },
    {
      "cell_type": "markdown",
      "metadata": {
        "id": "CcVMC_NNiBL9"
      },
      "source": [
        "- 없는 이미지를 읽어도 type이 NoneType으로 들어갈 뿐 에러를 발생하지 않음"
      ]
    },
    {
      "cell_type": "code",
      "execution_count": null,
      "metadata": {
        "id": "8JQHOMWuiaQZ"
      },
      "outputs": [],
      "source": []
    },
    {
      "cell_type": "markdown",
      "metadata": {
        "id": "HHXRuIzqLIDw"
      },
      "source": [
        "# 컬러 매핑(Color Mapping)\n",
        "\n",
        "- 주로 그레이 스케일(Grayscale), 트루 컬러(True Color, RGB)이미지를 많이 활용\n",
        "\n",
        "- 다양한 색 공간(ex, `HSV`, `YCrCB` 등)이 존재하고 이들을 변환할 수 있음\n",
        "  \n",
        "- 컬러 영상 처리에서 `HSV`와 `HSL`은 같은 색 공간을 이용하여 색상 구분에 용이하고, `YCrCb`와 `YUV`는 휘도 성분 구분에 용이\n",
        "\n",
        "- `cv2.cvtColor()` 활용"
      ]
    },
    {
      "cell_type": "markdown",
      "metadata": {
        "id": "vVWCxrVuLID3"
      },
      "source": [
        "## 색 공간의 종류 (참고)\n",
        "\n",
        "- RGB\n",
        "  - 컬러 표현을 빛의 3원색인 (Red, Green, Blue)으로 서로 다른 비율을 통해 색 표현\n",
        "\n",
        "- CMYK\n",
        "  - Cyan, Magenta, Yellow, Black를 기본으로 하여 주로 컬러 프린터나 인쇄시에 사용\n",
        "\n",
        "  - 각 성분들의 감산에 의해 컬러 구현\n",
        "\n",
        "- YUV\n",
        "\n",
        "  - Y축은 밝기 성분을 U,V 두축을 이용하여 색상을 표현\n",
        "  \n",
        "  - U축은 파란색에서 밝기 성분을 뺀 값, V축은 빨간색에서 밝기 성분을 뺀 값\n",
        "    \n",
        "  - 아날로그 컬러신호 변환에 주로 사용.  (U = B - Y) , (V = R - Y)\n",
        "\n",
        "- YCbCr\n",
        "  \n",
        "  - Digital TV에서 사용하는 색공간\n",
        "  \n",
        "  - YPbPr이라는 아날로그 신호의 색공간을 디지털화한 것\n",
        "  \n",
        "  - YPbPr은 아날로그 컴포넌트 비디오에서 사용\n"
      ]
    },
    {
      "cell_type": "markdown",
      "metadata": {
        "id": "FQcc72kcLID7"
      },
      "source": [
        "## RGB Color Space\n",
        "\n",
        "- 빛의 삼원색 조합으로 색을 표현\n",
        "  - `R`(빨간색), `G`(초록색), `B`(파란색)\n",
        "\n",
        "- 디지털 컬러 영상을 획득할 때 사용\n",
        "\n",
        "- 보편적으로 사용되고 있지만 '컬러 영상 처리'에서는 주로 사용되지 않음\n",
        "\n",
        "  <br>\n",
        "  \n",
        "  <img src=\"https://upload.wikimedia.org/wikipedia/commons/thumb/8/83/RGB_Cube_Show_lowgamma_cutout_b.png/600px-RGB_Cube_Show_lowgamma_cutout_b.png\">\n",
        "\n",
        "  <sub>[이미지 출처] https://en.wikipedia.org/wiki/RGB_color_space</sub>"
      ]
    },
    {
      "cell_type": "markdown",
      "metadata": {
        "id": "9QWEfdEdLIEA"
      },
      "source": [
        "- 이미지  \n",
        "\n",
        "  - 이미지 사용 (다른 이미지 사용 가능)\n",
        "\n",
        "  <img src=\"https://cdn.pixabay.com/photo/2017/09/25/13/12/dog-2785074_960_720.jpg\" width=\"300\">\n",
        "\n",
        "  <sub>[이미지 출처] https://pixabay.com/ko/photos/%EA%B0%95%EC%95%84%EC%A7%80-%EA%B0%9C-%EC%95%A0%EC%99%84-%EB%8F%99%EB%AC%BC-%EB%8F%99%EB%AC%BC-1903313/</sub>"
      ]
    },
    {
      "cell_type": "code",
      "execution_count": null,
      "metadata": {
        "id": "mvW0cJJULIEF"
      },
      "outputs": [],
      "source": []
    },
    {
      "cell_type": "markdown",
      "metadata": {
        "id": "mF_Iu7BPLIEX"
      },
      "source": [
        "- OpenCV와 matplotlib의 색공간 순서가 다르기 때문에 생기는 문제\n",
        "\n",
        "  - `matploblib` : R G B\n",
        "\n",
        "  - `OpenCV` : B G R"
      ]
    },
    {
      "cell_type": "code",
      "execution_count": null,
      "metadata": {
        "id": "6DrYSeUaLIEo"
      },
      "outputs": [],
      "source": []
    },
    {
      "cell_type": "markdown",
      "metadata": {
        "id": "2dtHjbVuLIEu"
      },
      "source": [
        "## HSV Color Space\n",
        "\n",
        "- 색상(Hue), 채도(Saturation), 명도(Value)로 색을 표현\n",
        "\n",
        "- 색상은 흔히 빨간색, 노란색 등과 같은 색의 종류\n",
        "\n",
        "- 채도는 색의 순도  \n",
        "\n",
        "  예들 들어, 파란색에서 \n",
        "  \n",
        "  - 채도가 높으면 맑고 선한 파란색\n",
        "\n",
        "  - 채도가 낮으면 탁한 파란색\n",
        "\n",
        "- 명도는 빛의 세기\n",
        "\n",
        "  - 명도가 높으면 밝고, 낮으면 어둡게 느껴진다.\n",
        "\n",
        "- OpenCV에서 `BGR2HSV` 색 공간 변환할 경우,  \n",
        "  - `H` : 0 ~ 179 사이의 정수로 표현\n",
        "    - 색상 값은 0° ~ 360° 로 표현하지만  \n",
        "      uchar 자료형은 256이상의 정수를 표현할 수 없기 때문에 OpenCV에서는 각도를 2로 나눈 값을 H로 저장\n",
        "\n",
        "  - `S` : 0 ~ 255 사이의 정수로 표현\n",
        "\n",
        "  - `V` : 0 ~ 255 사이의 정수로 표현\n",
        "\n",
        "  <br>\n",
        "\n",
        "  <img src=\"https://upload.wikimedia.org/wikipedia/commons/thumb/f/f1/HSV_cone.jpg/400px-HSV_cone.jpg\">\n",
        "\n",
        "  <sub>[이미지 출처] https://ko.wikipedia.org/wiki/HSV_%EC%83%89_%EA%B3%B5%EA%B0%84</sub>"
      ]
    },
    {
      "cell_type": "code",
      "execution_count": null,
      "metadata": {
        "id": "mhmToQqbLIFM"
      },
      "outputs": [],
      "source": []
    },
    {
      "cell_type": "markdown",
      "metadata": {
        "id": "UM647b-WLIFR"
      },
      "source": [
        "## HSL Color Space\n",
        "\n",
        "- 색상(Hue), 채도(Saturation), 밝기(Lightness)로 색을 표현하는 방식\n",
        "\n",
        "- HSV와 동일하지만 **밝기** 요소의 차이\n",
        "\n",
        "- HSV와 더불어 사람이 실제로 color를 인지하는 방식과 유사\n",
        "\n",
        "  <br>\n",
        "\n",
        "  <img src=\"https://rgbtohex.page/imgs/hsl-cylinder.png\">\n",
        "\n",
        "  <sub>[이미지 출처] https://rgbtohex.page/hsl</sub>"
      ]
    },
    {
      "cell_type": "code",
      "execution_count": null,
      "metadata": {
        "id": "M3XmFqGBLIFk"
      },
      "outputs": [],
      "source": []
    },
    {
      "cell_type": "markdown",
      "metadata": {
        "id": "9YoXLfI5LIFo"
      },
      "source": [
        "## YCrCb Color Space\n",
        "\n",
        "- Y 성분은 밝기 또는 휘도(luminance), Cr, Cb 성분은 색상 또는 색차(chrominance)를 나타냄\n",
        "\n",
        "- Cr, Cb는 오직 색상 정보만 가지고 있음. 밝기 정보 X\n",
        "\n",
        "- 영상을 GrayScale 정보와 색상 정보로 분리하여 처리할 때 유용\n",
        "\n",
        "- `Y`, `Cr`, `Cb`  : 0 ~ 255 사이의 정수로 표현\n",
        "\n",
        "  <br>\n",
        "\n",
        "  <img src=\"https://upload.wikimedia.org/wikipedia/commons/thumb/3/34/YCbCr-CbCr_Scaled_Y50.png/600px-YCbCr-CbCr_Scaled_Y50.png\" width=\"300\">\n",
        "  <img src=\"https://upload.wikimedia.org/wikipedia/commons/b/b8/YCbCr.GIF\">\n",
        "\n",
        "  <sub>[이미지 출처] https://en.wikipedia.org/wiki/YCbCr</sub>"
      ]
    },
    {
      "cell_type": "code",
      "execution_count": null,
      "metadata": {
        "id": "bKHMd_lNLIFz"
      },
      "outputs": [],
      "source": []
    },
    {
      "cell_type": "markdown",
      "metadata": {
        "id": "8wRqped6LIF2"
      },
      "source": [
        "## GrayScale Color Space\n",
        "\n",
        "- 영상의 밝기 정보를 256단계 (0 ~ 255) 로 구분하여 표현\n",
        "\n",
        "- 가장 밝은 흰색 : 255  \n",
        "  가장 어두운 검은색 : 0\n",
        "\n",
        "  <img src=\"https://miro.medium.com/max/1400/1*euc4RxnNo78LFEGrb-QZ7w.jpeg\">\n",
        "\n",
        "  <sub>[이미지 출처] https://medium.com/@himnickson/converting-rgb-image-to-the-grayscale-image-in-java-9e1edc5bd6e7</sub>"
      ]
    },
    {
      "cell_type": "code",
      "execution_count": null,
      "metadata": {
        "id": "e-lwS8anLIGC"
      },
      "outputs": [],
      "source": []
    }
  ],
  "metadata": {
    "colab": {
      "collapsed_sections": [],
      "name": "_01 OpenCV 이미지와 컬러 다루기, 도형 그리기.ipynb",
      "provenance": []
    },
    "kernelspec": {
      "display_name": "Python 3",
      "name": "python3"
    }
  },
  "nbformat": 4,
  "nbformat_minor": 0
}
