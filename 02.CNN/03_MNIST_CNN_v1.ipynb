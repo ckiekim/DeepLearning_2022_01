{
  "nbformat": 4,
  "nbformat_minor": 0,
  "metadata": {
    "colab": {
      "name": "03.MNIST-CNN-v1.ipynb",
      "provenance": [],
      "collapsed_sections": []
    },
    "kernelspec": {
      "name": "python3",
      "display_name": "Python 3"
    },
    "language_info": {
      "name": "python"
    },
    "accelerator": "GPU"
  },
  "cells": [
    {
      "cell_type": "markdown",
      "source": [
        "# MNIST 손글씨 - CNN v1\n",
        "- 2 Conv2D layers\n",
        "- 1 Fully Connected Network layer\n",
        "- 1 Output layer"
      ],
      "metadata": {
        "id": "xmAvOCJqoNzX"
      }
    },
    {
      "cell_type": "code",
      "execution_count": 1,
      "metadata": {
        "id": "GxZIy_3uoLat"
      },
      "outputs": [],
      "source": [
        "import numpy as np\n",
        "import tensorflow as tf\n",
        "seed = 2022\n",
        "np.random.seed(seed)\n",
        "tf.random.set_seed(seed)"
      ]
    },
    {
      "cell_type": "markdown",
      "source": [
        "- 데이터 전처리"
      ],
      "metadata": {
        "id": "8Td4a1UtotVm"
      }
    },
    {
      "cell_type": "code",
      "source": [
        "from tensorflow.keras.datasets import mnist\n",
        "(X_train, y_train), (X_test, y_test) = mnist.load_data()"
      ],
      "metadata": {
        "colab": {
          "base_uri": "https://localhost:8080/"
        },
        "id": "HYDAU_kloqre",
        "outputId": "c80db5a3-54e2-48d0-8944-e64bb398bb3f"
      },
      "execution_count": 2,
      "outputs": [
        {
          "output_type": "stream",
          "name": "stdout",
          "text": [
            "Downloading data from https://storage.googleapis.com/tensorflow/tf-keras-datasets/mnist.npz\n",
            "11493376/11490434 [==============================] - 0s 0us/step\n",
            "11501568/11490434 [==============================] - 0s 0us/step\n"
          ]
        }
      ]
    },
    {
      "cell_type": "code",
      "source": [
        "# X data: 0~1 사이의 값, 3차원 --> 4차원\n",
        "X_train = X_train.reshape(-1,28,28,1) / 255.\n",
        "X_test = X_test.reshape(-1,28,28,1) / 255."
      ],
      "metadata": {
        "id": "LvkY7rdIo6ch"
      },
      "execution_count": 3,
      "outputs": []
    },
    {
      "cell_type": "code",
      "source": [
        "# One-hot encoding\n",
        "from tensorflow.keras.utils import to_categorical\n",
        "Y_train = to_categorical(y_train)\n",
        "Y_test = to_categorical(y_test)"
      ],
      "metadata": {
        "id": "P-IH12iNpVJ9"
      },
      "execution_count": 4,
      "outputs": []
    },
    {
      "cell_type": "markdown",
      "source": [
        "- 모델 정의, 설정, 학습, 평가"
      ],
      "metadata": {
        "id": "kVI02YgcqCFw"
      }
    },
    {
      "cell_type": "code",
      "source": [
        "from tensorflow.keras.models import Sequential, load_model\n",
        "from tensorflow.keras.layers import Dense, Conv2D, Flatten\n",
        "from tensorflow.keras.callbacks import ModelCheckpoint, EarlyStopping"
      ],
      "metadata": {
        "id": "-3IA9qKkp-cN"
      },
      "execution_count": 5,
      "outputs": []
    },
    {
      "cell_type": "code",
      "source": [
        "model = Sequential([ \n",
        "    Conv2D(32, kernel_size=(3,3), input_shape=(28,28,1), activation='relu'),\n",
        "    Conv2D(64, (3,3), activation='relu'),\n",
        "    Flatten(),\n",
        "    Dense(512, activation='relu'),\n",
        "    Dense(10, activation='softmax')\n",
        "])\n",
        "model.summary()"
      ],
      "metadata": {
        "colab": {
          "base_uri": "https://localhost:8080/"
        },
        "id": "lwlX6-SNqeD_",
        "outputId": "edbddc86-d5ad-4752-873d-1b6f16df5844"
      },
      "execution_count": 6,
      "outputs": [
        {
          "output_type": "stream",
          "name": "stdout",
          "text": [
            "Model: \"sequential\"\n",
            "_________________________________________________________________\n",
            " Layer (type)                Output Shape              Param #   \n",
            "=================================================================\n",
            " conv2d (Conv2D)             (None, 26, 26, 32)        320       \n",
            "                                                                 \n",
            " conv2d_1 (Conv2D)           (None, 24, 24, 64)        18496     \n",
            "                                                                 \n",
            " flatten (Flatten)           (None, 36864)             0         \n",
            "                                                                 \n",
            " dense (Dense)               (None, 512)               18874880  \n",
            "                                                                 \n",
            " dense_1 (Dense)             (None, 10)                5130      \n",
            "                                                                 \n",
            "=================================================================\n",
            "Total params: 18,898,826\n",
            "Trainable params: 18,898,826\n",
            "Non-trainable params: 0\n",
            "_________________________________________________________________\n"
          ]
        }
      ]
    },
    {
      "cell_type": "code",
      "source": [
        "model.compile(optimizer='adam', loss='categorical_crossentropy', metrics=['accuracy'])"
      ],
      "metadata": {
        "id": "vP861Hn7rdJ9"
      },
      "execution_count": 7,
      "outputs": []
    },
    {
      "cell_type": "code",
      "source": [
        "model_path = 'best-mnist-cnn-v1.h5'\n",
        "checkpoint = ModelCheckpoint(model_path, save_best_only=True, verbose=1)\n",
        "early_stop = EarlyStopping(patience=10)"
      ],
      "metadata": {
        "id": "aRW7t3bQsmrB"
      },
      "execution_count": 8,
      "outputs": []
    },
    {
      "cell_type": "code",
      "source": [
        "hist = model.fit(\n",
        "    X_train, Y_train, validation_split=0.2, epochs=100, batch_size=200,\n",
        "    callbacks=[checkpoint, early_stop]\n",
        ")"
      ],
      "metadata": {
        "colab": {
          "base_uri": "https://localhost:8080/"
        },
        "id": "CgdLmM0xtCQa",
        "outputId": "05d9c1e6-0539-4cc0-ae97-d5baa73fb896"
      },
      "execution_count": 9,
      "outputs": [
        {
          "output_type": "stream",
          "name": "stdout",
          "text": [
            "Epoch 1/100\n",
            "239/240 [============================>.] - ETA: 0s - loss: 0.1524 - accuracy: 0.9530\n",
            "Epoch 00001: val_loss improved from inf to 0.05610, saving model to best-mnist-cnn-v1.h5\n",
            "240/240 [==============================] - 21s 22ms/step - loss: 0.1520 - accuracy: 0.9531 - val_loss: 0.0561 - val_accuracy: 0.9837\n",
            "Epoch 2/100\n",
            "240/240 [==============================] - ETA: 0s - loss: 0.0354 - accuracy: 0.9891\n",
            "Epoch 00002: val_loss improved from 0.05610 to 0.05195, saving model to best-mnist-cnn-v1.h5\n",
            "240/240 [==============================] - 5s 21ms/step - loss: 0.0354 - accuracy: 0.9891 - val_loss: 0.0520 - val_accuracy: 0.9858\n",
            "Epoch 3/100\n",
            "239/240 [============================>.] - ETA: 0s - loss: 0.0174 - accuracy: 0.9948\n",
            "Epoch 00003: val_loss improved from 0.05195 to 0.04574, saving model to best-mnist-cnn-v1.h5\n",
            "240/240 [==============================] - 5s 21ms/step - loss: 0.0173 - accuracy: 0.9948 - val_loss: 0.0457 - val_accuracy: 0.9869\n",
            "Epoch 4/100\n",
            "238/240 [============================>.] - ETA: 0s - loss: 0.0101 - accuracy: 0.9969\n",
            "Epoch 00004: val_loss did not improve from 0.04574\n",
            "240/240 [==============================] - 5s 19ms/step - loss: 0.0100 - accuracy: 0.9969 - val_loss: 0.0522 - val_accuracy: 0.9870\n",
            "Epoch 5/100\n",
            "239/240 [============================>.] - ETA: 0s - loss: 0.0069 - accuracy: 0.9979\n",
            "Epoch 00005: val_loss did not improve from 0.04574\n",
            "240/240 [==============================] - 4s 19ms/step - loss: 0.0070 - accuracy: 0.9979 - val_loss: 0.0631 - val_accuracy: 0.9847\n",
            "Epoch 6/100\n",
            "238/240 [============================>.] - ETA: 0s - loss: 0.0058 - accuracy: 0.9982\n",
            "Epoch 00006: val_loss did not improve from 0.04574\n",
            "240/240 [==============================] - 4s 19ms/step - loss: 0.0059 - accuracy: 0.9982 - val_loss: 0.0507 - val_accuracy: 0.9872\n",
            "Epoch 7/100\n",
            "240/240 [==============================] - ETA: 0s - loss: 0.0040 - accuracy: 0.9986\n",
            "Epoch 00007: val_loss did not improve from 0.04574\n",
            "240/240 [==============================] - 5s 19ms/step - loss: 0.0040 - accuracy: 0.9986 - val_loss: 0.0547 - val_accuracy: 0.9883\n",
            "Epoch 8/100\n",
            "240/240 [==============================] - ETA: 0s - loss: 0.0046 - accuracy: 0.9987\n",
            "Epoch 00008: val_loss did not improve from 0.04574\n",
            "240/240 [==============================] - 5s 19ms/step - loss: 0.0046 - accuracy: 0.9987 - val_loss: 0.0546 - val_accuracy: 0.9882\n",
            "Epoch 9/100\n",
            "239/240 [============================>.] - ETA: 0s - loss: 0.0047 - accuracy: 0.9985\n",
            "Epoch 00009: val_loss did not improve from 0.04574\n",
            "240/240 [==============================] - 5s 19ms/step - loss: 0.0047 - accuracy: 0.9985 - val_loss: 0.0598 - val_accuracy: 0.9870\n",
            "Epoch 10/100\n",
            "238/240 [============================>.] - ETA: 0s - loss: 0.0038 - accuracy: 0.9990\n",
            "Epoch 00010: val_loss did not improve from 0.04574\n",
            "240/240 [==============================] - 5s 20ms/step - loss: 0.0037 - accuracy: 0.9990 - val_loss: 0.0544 - val_accuracy: 0.9884\n",
            "Epoch 11/100\n",
            "239/240 [============================>.] - ETA: 0s - loss: 0.0031 - accuracy: 0.9989\n",
            "Epoch 00011: val_loss did not improve from 0.04574\n",
            "240/240 [==============================] - 5s 19ms/step - loss: 0.0032 - accuracy: 0.9989 - val_loss: 0.0621 - val_accuracy: 0.9877\n",
            "Epoch 12/100\n",
            "238/240 [============================>.] - ETA: 0s - loss: 0.0043 - accuracy: 0.9986\n",
            "Epoch 00012: val_loss did not improve from 0.04574\n",
            "240/240 [==============================] - 5s 19ms/step - loss: 0.0043 - accuracy: 0.9986 - val_loss: 0.0542 - val_accuracy: 0.9890\n",
            "Epoch 13/100\n",
            "238/240 [============================>.] - ETA: 0s - loss: 0.0035 - accuracy: 0.9991\n",
            "Epoch 00013: val_loss did not improve from 0.04574\n",
            "240/240 [==============================] - 5s 19ms/step - loss: 0.0034 - accuracy: 0.9991 - val_loss: 0.0624 - val_accuracy: 0.9872\n"
          ]
        }
      ]
    },
    {
      "cell_type": "code",
      "source": [
        "best_model = load_model(model_path)\n",
        "best_model.evaluate(X_test, Y_test)"
      ],
      "metadata": {
        "colab": {
          "base_uri": "https://localhost:8080/"
        },
        "id": "s5UM8szVthsP",
        "outputId": "12eb9a69-3220-46d4-eea6-8c9e2246b2fc"
      },
      "execution_count": 10,
      "outputs": [
        {
          "output_type": "stream",
          "name": "stdout",
          "text": [
            "313/313 [==============================] - 1s 4ms/step - loss: 0.0417 - accuracy: 0.9879\n"
          ]
        },
        {
          "output_type": "execute_result",
          "data": {
            "text/plain": [
              "[0.04165932536125183, 0.9879000186920166]"
            ]
          },
          "metadata": {},
          "execution_count": 10
        }
      ]
    },
    {
      "cell_type": "code",
      "source": [
        ""
      ],
      "metadata": {
        "id": "4m3TEy8TvY37"
      },
      "execution_count": null,
      "outputs": []
    }
  ]
}